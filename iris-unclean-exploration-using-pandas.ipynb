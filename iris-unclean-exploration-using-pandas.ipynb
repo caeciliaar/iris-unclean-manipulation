{
 "cells": [
  {
   "cell_type": "markdown",
   "id": "e6c0087c",
   "metadata": {
    "id": "hGkSK6137azR",
    "papermill": {
     "duration": 0.013791,
     "end_time": "2023-02-01T15:00:18.860979",
     "exception": false,
     "start_time": "2023-02-01T15:00:18.847188",
     "status": "completed"
    },
    "tags": []
   },
   "source": [
    "### Menginstal pandas"
   ]
  },
  {
   "cell_type": "code",
   "execution_count": 1,
   "id": "e943256d",
   "metadata": {
    "execution": {
     "iopub.execute_input": "2023-02-01T15:00:18.887444Z",
     "iopub.status.busy": "2023-02-01T15:00:18.886628Z",
     "iopub.status.idle": "2023-02-01T15:00:18.892056Z",
     "shell.execute_reply": "2023-02-01T15:00:18.891164Z"
    },
    "id": "wib8s1eA7gxA",
    "papermill": {
     "duration": 0.021225,
     "end_time": "2023-02-01T15:00:18.894298",
     "exception": false,
     "start_time": "2023-02-01T15:00:18.873073",
     "status": "completed"
    },
    "tags": []
   },
   "outputs": [],
   "source": [
    "#!pip install pandas"
   ]
  },
  {
   "cell_type": "markdown",
   "id": "4aaf170d",
   "metadata": {
    "id": "t6I-veVKwEzt",
    "papermill": {
     "duration": 0.013331,
     "end_time": "2023-02-01T15:00:18.919432",
     "exception": false,
     "start_time": "2023-02-01T15:00:18.906101",
     "status": "completed"
    },
    "tags": []
   },
   "source": [
    "### Melakukan import package pandas"
   ]
  },
  {
   "cell_type": "code",
   "execution_count": 2,
   "id": "b2bf7ee7",
   "metadata": {
    "execution": {
     "iopub.execute_input": "2023-02-01T15:00:18.945558Z",
     "iopub.status.busy": "2023-02-01T15:00:18.944749Z",
     "iopub.status.idle": "2023-02-01T15:00:18.953987Z",
     "shell.execute_reply": "2023-02-01T15:00:18.952917Z"
    },
    "id": "MX3potKOwA1W",
    "papermill": {
     "duration": 0.025255,
     "end_time": "2023-02-01T15:00:18.956392",
     "exception": false,
     "start_time": "2023-02-01T15:00:18.931137",
     "status": "completed"
    },
    "tags": []
   },
   "outputs": [],
   "source": [
    "import pandas as pd"
   ]
  },
  {
   "cell_type": "markdown",
   "id": "f6a4e8e5",
   "metadata": {
    "id": "iaD2T0_jdrlC",
    "papermill": {
     "duration": 0.0124,
     "end_time": "2023-02-01T15:00:18.980658",
     "exception": false,
     "start_time": "2023-02-01T15:00:18.968258",
     "status": "completed"
    },
    "tags": []
   },
   "source": [
    "### Load Dataset"
   ]
  },
  {
   "cell_type": "code",
   "execution_count": 3,
   "id": "de41e1ee",
   "metadata": {
    "execution": {
     "iopub.execute_input": "2023-02-01T15:00:19.006692Z",
     "iopub.status.busy": "2023-02-01T15:00:19.006239Z",
     "iopub.status.idle": "2023-02-01T15:00:19.054829Z",
     "shell.execute_reply": "2023-02-01T15:00:19.053260Z"
    },
    "id": "NP6TiwvCdrlD",
    "outputId": "3630e3fb-ab45-4a5c-ffa0-de7fdfdc85f5",
    "papermill": {
     "duration": 0.064857,
     "end_time": "2023-02-01T15:00:19.057536",
     "exception": false,
     "start_time": "2023-02-01T15:00:18.992679",
     "status": "completed"
    },
    "tags": []
   },
   "outputs": [
    {
     "data": {
      "text/html": [
       "<div>\n",
       "<style scoped>\n",
       "    .dataframe tbody tr th:only-of-type {\n",
       "        vertical-align: middle;\n",
       "    }\n",
       "\n",
       "    .dataframe tbody tr th {\n",
       "        vertical-align: top;\n",
       "    }\n",
       "\n",
       "    .dataframe thead th {\n",
       "        text-align: right;\n",
       "    }\n",
       "</style>\n",
       "<table border=\"1\" class=\"dataframe\">\n",
       "  <thead>\n",
       "    <tr style=\"text-align: right;\">\n",
       "      <th></th>\n",
       "      <th>SepalLengthCm</th>\n",
       "      <th>SepalWidthCm</th>\n",
       "      <th>PetalLengthCm</th>\n",
       "      <th>PetalWidthCm</th>\n",
       "      <th>Species</th>\n",
       "    </tr>\n",
       "  </thead>\n",
       "  <tbody>\n",
       "    <tr>\n",
       "      <th>0</th>\n",
       "      <td>NaN</td>\n",
       "      <td>3.5</td>\n",
       "      <td>1.4</td>\n",
       "      <td>0.2</td>\n",
       "      <td>Iris-setosa</td>\n",
       "    </tr>\n",
       "    <tr>\n",
       "      <th>1</th>\n",
       "      <td>4.9</td>\n",
       "      <td>2000.0</td>\n",
       "      <td>1.4</td>\n",
       "      <td>0.2</td>\n",
       "      <td>Iris-setosa</td>\n",
       "    </tr>\n",
       "    <tr>\n",
       "      <th>2</th>\n",
       "      <td>4.7</td>\n",
       "      <td>3.2</td>\n",
       "      <td>-1.3</td>\n",
       "      <td>0.2</td>\n",
       "      <td>Iris-setosa</td>\n",
       "    </tr>\n",
       "    <tr>\n",
       "      <th>3</th>\n",
       "      <td>4.6</td>\n",
       "      <td>3.1</td>\n",
       "      <td>1.5</td>\n",
       "      <td>0.2</td>\n",
       "      <td>Iris-setosa</td>\n",
       "    </tr>\n",
       "    <tr>\n",
       "      <th>4</th>\n",
       "      <td>5.0</td>\n",
       "      <td>3.6</td>\n",
       "      <td>1.4</td>\n",
       "      <td>0.2</td>\n",
       "      <td>Iris-setosa</td>\n",
       "    </tr>\n",
       "    <tr>\n",
       "      <th>...</th>\n",
       "      <td>...</td>\n",
       "      <td>...</td>\n",
       "      <td>...</td>\n",
       "      <td>...</td>\n",
       "      <td>...</td>\n",
       "    </tr>\n",
       "    <tr>\n",
       "      <th>145</th>\n",
       "      <td>6.7</td>\n",
       "      <td>3.0</td>\n",
       "      <td>5.2</td>\n",
       "      <td>2.3</td>\n",
       "      <td>Iris-virginica</td>\n",
       "    </tr>\n",
       "    <tr>\n",
       "      <th>146</th>\n",
       "      <td>6.3</td>\n",
       "      <td>2.5</td>\n",
       "      <td>5.0</td>\n",
       "      <td>1.9</td>\n",
       "      <td>Iris-virginica</td>\n",
       "    </tr>\n",
       "    <tr>\n",
       "      <th>147</th>\n",
       "      <td>6.5</td>\n",
       "      <td>3.0</td>\n",
       "      <td>5.2</td>\n",
       "      <td>2.0</td>\n",
       "      <td>Iris-virginica</td>\n",
       "    </tr>\n",
       "    <tr>\n",
       "      <th>148</th>\n",
       "      <td>6.2</td>\n",
       "      <td>3.4</td>\n",
       "      <td>5.4</td>\n",
       "      <td>2.3</td>\n",
       "      <td>Iris-virginica</td>\n",
       "    </tr>\n",
       "    <tr>\n",
       "      <th>149</th>\n",
       "      <td>5.9</td>\n",
       "      <td>3.0</td>\n",
       "      <td>5.1</td>\n",
       "      <td>1.8</td>\n",
       "      <td>Iris-virginica</td>\n",
       "    </tr>\n",
       "  </tbody>\n",
       "</table>\n",
       "<p>150 rows × 5 columns</p>\n",
       "</div>"
      ],
      "text/plain": [
       "     SepalLengthCm  SepalWidthCm  PetalLengthCm  PetalWidthCm         Species\n",
       "0              NaN           3.5            1.4           0.2     Iris-setosa\n",
       "1              4.9        2000.0            1.4           0.2     Iris-setosa\n",
       "2              4.7           3.2           -1.3           0.2     Iris-setosa\n",
       "3              4.6           3.1            1.5           0.2     Iris-setosa\n",
       "4              5.0           3.6            1.4           0.2     Iris-setosa\n",
       "..             ...           ...            ...           ...             ...\n",
       "145            6.7           3.0            5.2           2.3  Iris-virginica\n",
       "146            6.3           2.5            5.0           1.9  Iris-virginica\n",
       "147            6.5           3.0            5.2           2.0  Iris-virginica\n",
       "148            6.2           3.4            5.4           2.3  Iris-virginica\n",
       "149            5.9           3.0            5.1           1.8  Iris-virginica\n",
       "\n",
       "[150 rows x 5 columns]"
      ]
     },
     "execution_count": 3,
     "metadata": {},
     "output_type": "execute_result"
    }
   ],
   "source": [
    "#Panggil file (load file bernama Iris_unclean.csv) \n",
    "df = pd.read_csv(\"/kaggle/input/iris-unclean/iris_unclean.csv\")\n",
    "df"
   ]
  },
  {
   "cell_type": "markdown",
   "id": "1554d989",
   "metadata": {
    "id": "I9ZcWKvrdrlD",
    "papermill": {
     "duration": 0.011748,
     "end_time": "2023-02-01T15:00:19.081606",
     "exception": false,
     "start_time": "2023-02-01T15:00:19.069858",
     "status": "completed"
    },
    "tags": []
   },
   "source": [
    "### Subset"
   ]
  },
  {
   "cell_type": "code",
   "execution_count": 4,
   "id": "409fbc03",
   "metadata": {
    "execution": {
     "iopub.execute_input": "2023-02-01T15:00:19.107455Z",
     "iopub.status.busy": "2023-02-01T15:00:19.107027Z",
     "iopub.status.idle": "2023-02-01T15:00:19.121482Z",
     "shell.execute_reply": "2023-02-01T15:00:19.120341Z"
    },
    "id": "caSdMmL_drlE",
    "outputId": "f94ce61c-5edc-4792-affa-b8e2950ab80f",
    "papermill": {
     "duration": 0.030117,
     "end_time": "2023-02-01T15:00:19.123882",
     "exception": false,
     "start_time": "2023-02-01T15:00:19.093765",
     "status": "completed"
    },
    "tags": []
   },
   "outputs": [
    {
     "data": {
      "text/html": [
       "<div>\n",
       "<style scoped>\n",
       "    .dataframe tbody tr th:only-of-type {\n",
       "        vertical-align: middle;\n",
       "    }\n",
       "\n",
       "    .dataframe tbody tr th {\n",
       "        vertical-align: top;\n",
       "    }\n",
       "\n",
       "    .dataframe thead th {\n",
       "        text-align: right;\n",
       "    }\n",
       "</style>\n",
       "<table border=\"1\" class=\"dataframe\">\n",
       "  <thead>\n",
       "    <tr style=\"text-align: right;\">\n",
       "      <th></th>\n",
       "      <th>SepalLengthCm</th>\n",
       "      <th>SepalWidthCm</th>\n",
       "      <th>PetalLengthCm</th>\n",
       "      <th>PetalWidthCm</th>\n",
       "      <th>Species</th>\n",
       "    </tr>\n",
       "  </thead>\n",
       "  <tbody>\n",
       "    <tr>\n",
       "      <th>0</th>\n",
       "      <td>NaN</td>\n",
       "      <td>3.5</td>\n",
       "      <td>1.4</td>\n",
       "      <td>0.2</td>\n",
       "      <td>Iris-setosa</td>\n",
       "    </tr>\n",
       "    <tr>\n",
       "      <th>1</th>\n",
       "      <td>4.9</td>\n",
       "      <td>2000.0</td>\n",
       "      <td>1.4</td>\n",
       "      <td>0.2</td>\n",
       "      <td>Iris-setosa</td>\n",
       "    </tr>\n",
       "    <tr>\n",
       "      <th>2</th>\n",
       "      <td>4.7</td>\n",
       "      <td>3.2</td>\n",
       "      <td>-1.3</td>\n",
       "      <td>0.2</td>\n",
       "      <td>Iris-setosa</td>\n",
       "    </tr>\n",
       "    <tr>\n",
       "      <th>3</th>\n",
       "      <td>4.6</td>\n",
       "      <td>3.1</td>\n",
       "      <td>1.5</td>\n",
       "      <td>0.2</td>\n",
       "      <td>Iris-setosa</td>\n",
       "    </tr>\n",
       "    <tr>\n",
       "      <th>4</th>\n",
       "      <td>5.0</td>\n",
       "      <td>3.6</td>\n",
       "      <td>1.4</td>\n",
       "      <td>0.2</td>\n",
       "      <td>Iris-setosa</td>\n",
       "    </tr>\n",
       "  </tbody>\n",
       "</table>\n",
       "</div>"
      ],
      "text/plain": [
       "   SepalLengthCm  SepalWidthCm  PetalLengthCm  PetalWidthCm      Species\n",
       "0            NaN           3.5            1.4           0.2  Iris-setosa\n",
       "1            4.9        2000.0            1.4           0.2  Iris-setosa\n",
       "2            4.7           3.2           -1.3           0.2  Iris-setosa\n",
       "3            4.6           3.1            1.5           0.2  Iris-setosa\n",
       "4            5.0           3.6            1.4           0.2  Iris-setosa"
      ]
     },
     "execution_count": 4,
     "metadata": {},
     "output_type": "execute_result"
    }
   ],
   "source": [
    "df.head()"
   ]
  },
  {
   "cell_type": "code",
   "execution_count": 5,
   "id": "c5a0bb23",
   "metadata": {
    "execution": {
     "iopub.execute_input": "2023-02-01T15:00:19.150849Z",
     "iopub.status.busy": "2023-02-01T15:00:19.150402Z",
     "iopub.status.idle": "2023-02-01T15:00:19.165499Z",
     "shell.execute_reply": "2023-02-01T15:00:19.164191Z"
    },
    "id": "LnrwaJe2drlE",
    "outputId": "188e62ec-47bf-4219-f238-9bc4fc172c66",
    "papermill": {
     "duration": 0.031496,
     "end_time": "2023-02-01T15:00:19.168105",
     "exception": false,
     "start_time": "2023-02-01T15:00:19.136609",
     "status": "completed"
    },
    "tags": []
   },
   "outputs": [
    {
     "data": {
      "text/html": [
       "<div>\n",
       "<style scoped>\n",
       "    .dataframe tbody tr th:only-of-type {\n",
       "        vertical-align: middle;\n",
       "    }\n",
       "\n",
       "    .dataframe tbody tr th {\n",
       "        vertical-align: top;\n",
       "    }\n",
       "\n",
       "    .dataframe thead th {\n",
       "        text-align: right;\n",
       "    }\n",
       "</style>\n",
       "<table border=\"1\" class=\"dataframe\">\n",
       "  <thead>\n",
       "    <tr style=\"text-align: right;\">\n",
       "      <th></th>\n",
       "      <th>SepalLengthCm</th>\n",
       "      <th>SepalWidthCm</th>\n",
       "      <th>PetalLengthCm</th>\n",
       "      <th>PetalWidthCm</th>\n",
       "      <th>Species</th>\n",
       "    </tr>\n",
       "  </thead>\n",
       "  <tbody>\n",
       "    <tr>\n",
       "      <th>145</th>\n",
       "      <td>6.7</td>\n",
       "      <td>3.0</td>\n",
       "      <td>5.2</td>\n",
       "      <td>2.3</td>\n",
       "      <td>Iris-virginica</td>\n",
       "    </tr>\n",
       "    <tr>\n",
       "      <th>146</th>\n",
       "      <td>6.3</td>\n",
       "      <td>2.5</td>\n",
       "      <td>5.0</td>\n",
       "      <td>1.9</td>\n",
       "      <td>Iris-virginica</td>\n",
       "    </tr>\n",
       "    <tr>\n",
       "      <th>147</th>\n",
       "      <td>6.5</td>\n",
       "      <td>3.0</td>\n",
       "      <td>5.2</td>\n",
       "      <td>2.0</td>\n",
       "      <td>Iris-virginica</td>\n",
       "    </tr>\n",
       "    <tr>\n",
       "      <th>148</th>\n",
       "      <td>6.2</td>\n",
       "      <td>3.4</td>\n",
       "      <td>5.4</td>\n",
       "      <td>2.3</td>\n",
       "      <td>Iris-virginica</td>\n",
       "    </tr>\n",
       "    <tr>\n",
       "      <th>149</th>\n",
       "      <td>5.9</td>\n",
       "      <td>3.0</td>\n",
       "      <td>5.1</td>\n",
       "      <td>1.8</td>\n",
       "      <td>Iris-virginica</td>\n",
       "    </tr>\n",
       "  </tbody>\n",
       "</table>\n",
       "</div>"
      ],
      "text/plain": [
       "     SepalLengthCm  SepalWidthCm  PetalLengthCm  PetalWidthCm         Species\n",
       "145            6.7           3.0            5.2           2.3  Iris-virginica\n",
       "146            6.3           2.5            5.0           1.9  Iris-virginica\n",
       "147            6.5           3.0            5.2           2.0  Iris-virginica\n",
       "148            6.2           3.4            5.4           2.3  Iris-virginica\n",
       "149            5.9           3.0            5.1           1.8  Iris-virginica"
      ]
     },
     "execution_count": 5,
     "metadata": {},
     "output_type": "execute_result"
    }
   ],
   "source": [
    "df.tail()"
   ]
  },
  {
   "cell_type": "code",
   "execution_count": 6,
   "id": "91b6cd9a",
   "metadata": {
    "execution": {
     "iopub.execute_input": "2023-02-01T15:00:19.196666Z",
     "iopub.status.busy": "2023-02-01T15:00:19.195376Z",
     "iopub.status.idle": "2023-02-01T15:00:19.214721Z",
     "shell.execute_reply": "2023-02-01T15:00:19.213283Z"
    },
    "id": "QVTUOvmtdrlE",
    "outputId": "ba669726-e3be-473d-afd7-40ddc4809661",
    "papermill": {
     "duration": 0.036095,
     "end_time": "2023-02-01T15:00:19.217514",
     "exception": false,
     "start_time": "2023-02-01T15:00:19.181419",
     "status": "completed"
    },
    "tags": []
   },
   "outputs": [
    {
     "data": {
      "text/html": [
       "<div>\n",
       "<style scoped>\n",
       "    .dataframe tbody tr th:only-of-type {\n",
       "        vertical-align: middle;\n",
       "    }\n",
       "\n",
       "    .dataframe tbody tr th {\n",
       "        vertical-align: top;\n",
       "    }\n",
       "\n",
       "    .dataframe thead th {\n",
       "        text-align: right;\n",
       "    }\n",
       "</style>\n",
       "<table border=\"1\" class=\"dataframe\">\n",
       "  <thead>\n",
       "    <tr style=\"text-align: right;\">\n",
       "      <th></th>\n",
       "      <th>SepalLengthCm</th>\n",
       "      <th>SepalWidthCm</th>\n",
       "      <th>PetalLengthCm</th>\n",
       "      <th>PetalWidthCm</th>\n",
       "      <th>Species</th>\n",
       "    </tr>\n",
       "  </thead>\n",
       "  <tbody>\n",
       "    <tr>\n",
       "      <th>0</th>\n",
       "      <td>NaN</td>\n",
       "      <td>3.5</td>\n",
       "      <td>1.4</td>\n",
       "      <td>0.2</td>\n",
       "      <td>Iris-setosa</td>\n",
       "    </tr>\n",
       "    <tr>\n",
       "      <th>1</th>\n",
       "      <td>4.9</td>\n",
       "      <td>2000.0</td>\n",
       "      <td>1.4</td>\n",
       "      <td>0.2</td>\n",
       "      <td>Iris-setosa</td>\n",
       "    </tr>\n",
       "    <tr>\n",
       "      <th>2</th>\n",
       "      <td>4.7</td>\n",
       "      <td>3.2</td>\n",
       "      <td>-1.3</td>\n",
       "      <td>0.2</td>\n",
       "      <td>Iris-setosa</td>\n",
       "    </tr>\n",
       "    <tr>\n",
       "      <th>3</th>\n",
       "      <td>4.6</td>\n",
       "      <td>3.1</td>\n",
       "      <td>1.5</td>\n",
       "      <td>0.2</td>\n",
       "      <td>Iris-setosa</td>\n",
       "    </tr>\n",
       "    <tr>\n",
       "      <th>4</th>\n",
       "      <td>5.0</td>\n",
       "      <td>3.6</td>\n",
       "      <td>1.4</td>\n",
       "      <td>0.2</td>\n",
       "      <td>Iris-setosa</td>\n",
       "    </tr>\n",
       "    <tr>\n",
       "      <th>...</th>\n",
       "      <td>...</td>\n",
       "      <td>...</td>\n",
       "      <td>...</td>\n",
       "      <td>...</td>\n",
       "      <td>...</td>\n",
       "    </tr>\n",
       "    <tr>\n",
       "      <th>145</th>\n",
       "      <td>6.7</td>\n",
       "      <td>3.0</td>\n",
       "      <td>5.2</td>\n",
       "      <td>2.3</td>\n",
       "      <td>Iris-virginica</td>\n",
       "    </tr>\n",
       "    <tr>\n",
       "      <th>146</th>\n",
       "      <td>6.3</td>\n",
       "      <td>2.5</td>\n",
       "      <td>5.0</td>\n",
       "      <td>1.9</td>\n",
       "      <td>Iris-virginica</td>\n",
       "    </tr>\n",
       "    <tr>\n",
       "      <th>147</th>\n",
       "      <td>6.5</td>\n",
       "      <td>3.0</td>\n",
       "      <td>5.2</td>\n",
       "      <td>2.0</td>\n",
       "      <td>Iris-virginica</td>\n",
       "    </tr>\n",
       "    <tr>\n",
       "      <th>148</th>\n",
       "      <td>6.2</td>\n",
       "      <td>3.4</td>\n",
       "      <td>5.4</td>\n",
       "      <td>2.3</td>\n",
       "      <td>Iris-virginica</td>\n",
       "    </tr>\n",
       "    <tr>\n",
       "      <th>149</th>\n",
       "      <td>5.9</td>\n",
       "      <td>3.0</td>\n",
       "      <td>5.1</td>\n",
       "      <td>1.8</td>\n",
       "      <td>Iris-virginica</td>\n",
       "    </tr>\n",
       "  </tbody>\n",
       "</table>\n",
       "<p>150 rows × 5 columns</p>\n",
       "</div>"
      ],
      "text/plain": [
       "     SepalLengthCm  SepalWidthCm  PetalLengthCm  PetalWidthCm         Species\n",
       "0              NaN           3.5            1.4           0.2     Iris-setosa\n",
       "1              4.9        2000.0            1.4           0.2     Iris-setosa\n",
       "2              4.7           3.2           -1.3           0.2     Iris-setosa\n",
       "3              4.6           3.1            1.5           0.2     Iris-setosa\n",
       "4              5.0           3.6            1.4           0.2     Iris-setosa\n",
       "..             ...           ...            ...           ...             ...\n",
       "145            6.7           3.0            5.2           2.3  Iris-virginica\n",
       "146            6.3           2.5            5.0           1.9  Iris-virginica\n",
       "147            6.5           3.0            5.2           2.0  Iris-virginica\n",
       "148            6.2           3.4            5.4           2.3  Iris-virginica\n",
       "149            5.9           3.0            5.1           1.8  Iris-virginica\n",
       "\n",
       "[150 rows x 5 columns]"
      ]
     },
     "execution_count": 6,
     "metadata": {},
     "output_type": "execute_result"
    }
   ],
   "source": [
    "#Bisa mengambil sebagaian data dengan perintah berikut\n",
    "df.iloc[:,:]"
   ]
  },
  {
   "cell_type": "code",
   "execution_count": 7,
   "id": "7d0629d6",
   "metadata": {
    "execution": {
     "iopub.execute_input": "2023-02-01T15:00:19.245447Z",
     "iopub.status.busy": "2023-02-01T15:00:19.245052Z",
     "iopub.status.idle": "2023-02-01T15:00:19.260738Z",
     "shell.execute_reply": "2023-02-01T15:00:19.259397Z"
    },
    "id": "avO3pfgcdrlE",
    "outputId": "8d324a0b-e512-4525-e7b1-ee827e7ac897",
    "papermill": {
     "duration": 0.032678,
     "end_time": "2023-02-01T15:00:19.263077",
     "exception": false,
     "start_time": "2023-02-01T15:00:19.230399",
     "status": "completed"
    },
    "tags": []
   },
   "outputs": [
    {
     "data": {
      "text/html": [
       "<div>\n",
       "<style scoped>\n",
       "    .dataframe tbody tr th:only-of-type {\n",
       "        vertical-align: middle;\n",
       "    }\n",
       "\n",
       "    .dataframe tbody tr th {\n",
       "        vertical-align: top;\n",
       "    }\n",
       "\n",
       "    .dataframe thead th {\n",
       "        text-align: right;\n",
       "    }\n",
       "</style>\n",
       "<table border=\"1\" class=\"dataframe\">\n",
       "  <thead>\n",
       "    <tr style=\"text-align: right;\">\n",
       "      <th></th>\n",
       "      <th>Species</th>\n",
       "    </tr>\n",
       "  </thead>\n",
       "  <tbody>\n",
       "    <tr>\n",
       "      <th>0</th>\n",
       "      <td>Iris-setosa</td>\n",
       "    </tr>\n",
       "    <tr>\n",
       "      <th>1</th>\n",
       "      <td>Iris-setosa</td>\n",
       "    </tr>\n",
       "    <tr>\n",
       "      <th>2</th>\n",
       "      <td>Iris-setosa</td>\n",
       "    </tr>\n",
       "    <tr>\n",
       "      <th>3</th>\n",
       "      <td>Iris-setosa</td>\n",
       "    </tr>\n",
       "    <tr>\n",
       "      <th>4</th>\n",
       "      <td>Iris-setosa</td>\n",
       "    </tr>\n",
       "    <tr>\n",
       "      <th>...</th>\n",
       "      <td>...</td>\n",
       "    </tr>\n",
       "    <tr>\n",
       "      <th>145</th>\n",
       "      <td>Iris-virginica</td>\n",
       "    </tr>\n",
       "    <tr>\n",
       "      <th>146</th>\n",
       "      <td>Iris-virginica</td>\n",
       "    </tr>\n",
       "    <tr>\n",
       "      <th>147</th>\n",
       "      <td>Iris-virginica</td>\n",
       "    </tr>\n",
       "    <tr>\n",
       "      <th>148</th>\n",
       "      <td>Iris-virginica</td>\n",
       "    </tr>\n",
       "    <tr>\n",
       "      <th>149</th>\n",
       "      <td>Iris-virginica</td>\n",
       "    </tr>\n",
       "  </tbody>\n",
       "</table>\n",
       "<p>150 rows × 1 columns</p>\n",
       "</div>"
      ],
      "text/plain": [
       "            Species\n",
       "0       Iris-setosa\n",
       "1       Iris-setosa\n",
       "2       Iris-setosa\n",
       "3       Iris-setosa\n",
       "4       Iris-setosa\n",
       "..              ...\n",
       "145  Iris-virginica\n",
       "146  Iris-virginica\n",
       "147  Iris-virginica\n",
       "148  Iris-virginica\n",
       "149  Iris-virginica\n",
       "\n",
       "[150 rows x 1 columns]"
      ]
     },
     "execution_count": 7,
     "metadata": {},
     "output_type": "execute_result"
    }
   ],
   "source": [
    "#Misal hanya mau mengambil data species saja maka\n",
    "df_spe=df.iloc[:,4:5]\n",
    "df_spe"
   ]
  },
  {
   "cell_type": "code",
   "execution_count": 8,
   "id": "ef5d05e0",
   "metadata": {
    "execution": {
     "iopub.execute_input": "2023-02-01T15:00:19.291755Z",
     "iopub.status.busy": "2023-02-01T15:00:19.291298Z",
     "iopub.status.idle": "2023-02-01T15:00:19.307045Z",
     "shell.execute_reply": "2023-02-01T15:00:19.305969Z"
    },
    "id": "cnOyKRDJdrlF",
    "outputId": "1d208b65-7130-43c1-8378-94faa2cd09ed",
    "papermill": {
     "duration": 0.033451,
     "end_time": "2023-02-01T15:00:19.309671",
     "exception": false,
     "start_time": "2023-02-01T15:00:19.276220",
     "status": "completed"
    },
    "tags": []
   },
   "outputs": [
    {
     "data": {
      "text/html": [
       "<div>\n",
       "<style scoped>\n",
       "    .dataframe tbody tr th:only-of-type {\n",
       "        vertical-align: middle;\n",
       "    }\n",
       "\n",
       "    .dataframe tbody tr th {\n",
       "        vertical-align: top;\n",
       "    }\n",
       "\n",
       "    .dataframe thead th {\n",
       "        text-align: right;\n",
       "    }\n",
       "</style>\n",
       "<table border=\"1\" class=\"dataframe\">\n",
       "  <thead>\n",
       "    <tr style=\"text-align: right;\">\n",
       "      <th></th>\n",
       "      <th>SepalLengthCm</th>\n",
       "      <th>SepalWidthCm</th>\n",
       "    </tr>\n",
       "  </thead>\n",
       "  <tbody>\n",
       "    <tr>\n",
       "      <th>0</th>\n",
       "      <td>NaN</td>\n",
       "      <td>3.5</td>\n",
       "    </tr>\n",
       "    <tr>\n",
       "      <th>1</th>\n",
       "      <td>4.9</td>\n",
       "      <td>2000.0</td>\n",
       "    </tr>\n",
       "    <tr>\n",
       "      <th>2</th>\n",
       "      <td>4.7</td>\n",
       "      <td>3.2</td>\n",
       "    </tr>\n",
       "    <tr>\n",
       "      <th>3</th>\n",
       "      <td>4.6</td>\n",
       "      <td>3.1</td>\n",
       "    </tr>\n",
       "    <tr>\n",
       "      <th>4</th>\n",
       "      <td>5.0</td>\n",
       "      <td>3.6</td>\n",
       "    </tr>\n",
       "    <tr>\n",
       "      <th>...</th>\n",
       "      <td>...</td>\n",
       "      <td>...</td>\n",
       "    </tr>\n",
       "    <tr>\n",
       "      <th>145</th>\n",
       "      <td>6.7</td>\n",
       "      <td>3.0</td>\n",
       "    </tr>\n",
       "    <tr>\n",
       "      <th>146</th>\n",
       "      <td>6.3</td>\n",
       "      <td>2.5</td>\n",
       "    </tr>\n",
       "    <tr>\n",
       "      <th>147</th>\n",
       "      <td>6.5</td>\n",
       "      <td>3.0</td>\n",
       "    </tr>\n",
       "    <tr>\n",
       "      <th>148</th>\n",
       "      <td>6.2</td>\n",
       "      <td>3.4</td>\n",
       "    </tr>\n",
       "    <tr>\n",
       "      <th>149</th>\n",
       "      <td>5.9</td>\n",
       "      <td>3.0</td>\n",
       "    </tr>\n",
       "  </tbody>\n",
       "</table>\n",
       "<p>150 rows × 2 columns</p>\n",
       "</div>"
      ],
      "text/plain": [
       "     SepalLengthCm  SepalWidthCm\n",
       "0              NaN           3.5\n",
       "1              4.9        2000.0\n",
       "2              4.7           3.2\n",
       "3              4.6           3.1\n",
       "4              5.0           3.6\n",
       "..             ...           ...\n",
       "145            6.7           3.0\n",
       "146            6.3           2.5\n",
       "147            6.5           3.0\n",
       "148            6.2           3.4\n",
       "149            5.9           3.0\n",
       "\n",
       "[150 rows x 2 columns]"
      ]
     },
     "execution_count": 8,
     "metadata": {},
     "output_type": "execute_result"
    }
   ],
   "source": [
    "# Coba tampilkan subset untuk kolom SepalLengthCm dan SepalWidthCm saja\n",
    "df.iloc[:,0:2]"
   ]
  },
  {
   "cell_type": "code",
   "execution_count": 9,
   "id": "62405c09",
   "metadata": {
    "execution": {
     "iopub.execute_input": "2023-02-01T15:00:19.338842Z",
     "iopub.status.busy": "2023-02-01T15:00:19.338405Z",
     "iopub.status.idle": "2023-02-01T15:00:19.349289Z",
     "shell.execute_reply": "2023-02-01T15:00:19.348227Z"
    },
    "id": "usXZdXUDdrlF",
    "outputId": "0655fd24-b130-4fba-d6bc-75b6bee18f00",
    "papermill": {
     "duration": 0.028154,
     "end_time": "2023-02-01T15:00:19.351767",
     "exception": false,
     "start_time": "2023-02-01T15:00:19.323613",
     "status": "completed"
    },
    "tags": []
   },
   "outputs": [
    {
     "data": {
      "text/html": [
       "<div>\n",
       "<style scoped>\n",
       "    .dataframe tbody tr th:only-of-type {\n",
       "        vertical-align: middle;\n",
       "    }\n",
       "\n",
       "    .dataframe tbody tr th {\n",
       "        vertical-align: top;\n",
       "    }\n",
       "\n",
       "    .dataframe thead th {\n",
       "        text-align: right;\n",
       "    }\n",
       "</style>\n",
       "<table border=\"1\" class=\"dataframe\">\n",
       "  <thead>\n",
       "    <tr style=\"text-align: right;\">\n",
       "      <th></th>\n",
       "      <th>PetalLengthCm</th>\n",
       "    </tr>\n",
       "  </thead>\n",
       "  <tbody>\n",
       "    <tr>\n",
       "      <th>10</th>\n",
       "      <td>1.5</td>\n",
       "    </tr>\n",
       "    <tr>\n",
       "      <th>11</th>\n",
       "      <td>1.6</td>\n",
       "    </tr>\n",
       "    <tr>\n",
       "      <th>12</th>\n",
       "      <td>1.4</td>\n",
       "    </tr>\n",
       "    <tr>\n",
       "      <th>13</th>\n",
       "      <td>1.1</td>\n",
       "    </tr>\n",
       "    <tr>\n",
       "      <th>14</th>\n",
       "      <td>1.2</td>\n",
       "    </tr>\n",
       "    <tr>\n",
       "      <th>15</th>\n",
       "      <td>1.5</td>\n",
       "    </tr>\n",
       "  </tbody>\n",
       "</table>\n",
       "</div>"
      ],
      "text/plain": [
       "    PetalLengthCm\n",
       "10            1.5\n",
       "11            1.6\n",
       "12            1.4\n",
       "13            1.1\n",
       "14            1.2\n",
       "15            1.5"
      ]
     },
     "execution_count": 9,
     "metadata": {},
     "output_type": "execute_result"
    }
   ],
   "source": [
    "# Coba tampilkan subset data dengan index 10-15 dari kolom PetalLengthCm\n",
    "df.iloc[10:16,2:3]"
   ]
  },
  {
   "cell_type": "markdown",
   "id": "8dda1650",
   "metadata": {
    "id": "z5CJQgvadrlG",
    "papermill": {
     "duration": 0.014344,
     "end_time": "2023-02-01T15:00:19.380001",
     "exception": false,
     "start_time": "2023-02-01T15:00:19.365657",
     "status": "completed"
    },
    "tags": []
   },
   "source": [
    "### Merangkum data"
   ]
  },
  {
   "cell_type": "code",
   "execution_count": 10,
   "id": "3c7a8cf8",
   "metadata": {
    "execution": {
     "iopub.execute_input": "2023-02-01T15:00:19.409692Z",
     "iopub.status.busy": "2023-02-01T15:00:19.409242Z",
     "iopub.status.idle": "2023-02-01T15:00:19.418682Z",
     "shell.execute_reply": "2023-02-01T15:00:19.417409Z"
    },
    "id": "CIks75pFdrlG",
    "outputId": "7c309fc5-1368-4748-bad2-c95a995868f6",
    "papermill": {
     "duration": 0.027404,
     "end_time": "2023-02-01T15:00:19.421591",
     "exception": false,
     "start_time": "2023-02-01T15:00:19.394187",
     "status": "completed"
    },
    "tags": []
   },
   "outputs": [
    {
     "data": {
      "text/plain": [
       "(150, 5)"
      ]
     },
     "execution_count": 10,
     "metadata": {},
     "output_type": "execute_result"
    }
   ],
   "source": [
    "# menampilkan jumlah baris dan jumlah kolom (bentuk data) pada data df dengan fungsi .shape\n",
    "df.shape"
   ]
  },
  {
   "cell_type": "code",
   "execution_count": 11,
   "id": "3658ba41",
   "metadata": {
    "execution": {
     "iopub.execute_input": "2023-02-01T15:00:19.452935Z",
     "iopub.status.busy": "2023-02-01T15:00:19.452220Z",
     "iopub.status.idle": "2023-02-01T15:00:19.481276Z",
     "shell.execute_reply": "2023-02-01T15:00:19.480036Z"
    },
    "id": "THx_Ks70drlG",
    "outputId": "70a2d343-fbc2-455b-c634-52f08c6cf8ff",
    "papermill": {
     "duration": 0.047787,
     "end_time": "2023-02-01T15:00:19.483849",
     "exception": false,
     "start_time": "2023-02-01T15:00:19.436062",
     "status": "completed"
    },
    "tags": []
   },
   "outputs": [
    {
     "name": "stdout",
     "output_type": "stream",
     "text": [
      "<class 'pandas.core.frame.DataFrame'>\n",
      "RangeIndex: 150 entries, 0 to 149\n",
      "Data columns (total 5 columns):\n",
      " #   Column         Non-Null Count  Dtype  \n",
      "---  ------         --------------  -----  \n",
      " 0   SepalLengthCm  148 non-null    float64\n",
      " 1   SepalWidthCm   150 non-null    float64\n",
      " 2   PetalLengthCm  150 non-null    float64\n",
      " 3   PetalWidthCm   150 non-null    float64\n",
      " 4   Species        150 non-null    object \n",
      "dtypes: float64(4), object(1)\n",
      "memory usage: 6.0+ KB\n"
     ]
    }
   ],
   "source": [
    "# Informasi lebih detail mengenai struktur DataFrame dapat dilihat menggunakan fungsi info()\n",
    "df.info()"
   ]
  },
  {
   "cell_type": "code",
   "execution_count": 12,
   "id": "36eab66b",
   "metadata": {
    "execution": {
     "iopub.execute_input": "2023-02-01T15:00:19.514450Z",
     "iopub.status.busy": "2023-02-01T15:00:19.514038Z",
     "iopub.status.idle": "2023-02-01T15:00:19.541058Z",
     "shell.execute_reply": "2023-02-01T15:00:19.539833Z"
    },
    "id": "MMnsgLAWdrlH",
    "outputId": "3e3a1031-d224-441a-a199-895f7d3563c5",
    "papermill": {
     "duration": 0.045187,
     "end_time": "2023-02-01T15:00:19.543936",
     "exception": false,
     "start_time": "2023-02-01T15:00:19.498749",
     "status": "completed"
    },
    "tags": []
   },
   "outputs": [
    {
     "data": {
      "text/html": [
       "<div>\n",
       "<style scoped>\n",
       "    .dataframe tbody tr th:only-of-type {\n",
       "        vertical-align: middle;\n",
       "    }\n",
       "\n",
       "    .dataframe tbody tr th {\n",
       "        vertical-align: top;\n",
       "    }\n",
       "\n",
       "    .dataframe thead th {\n",
       "        text-align: right;\n",
       "    }\n",
       "</style>\n",
       "<table border=\"1\" class=\"dataframe\">\n",
       "  <thead>\n",
       "    <tr style=\"text-align: right;\">\n",
       "      <th></th>\n",
       "      <th>SepalLengthCm</th>\n",
       "      <th>SepalWidthCm</th>\n",
       "      <th>PetalLengthCm</th>\n",
       "      <th>PetalWidthCm</th>\n",
       "    </tr>\n",
       "  </thead>\n",
       "  <tbody>\n",
       "    <tr>\n",
       "      <th>count</th>\n",
       "      <td>148.000000</td>\n",
       "      <td>150.000000</td>\n",
       "      <td>150.000000</td>\n",
       "      <td>150.000000</td>\n",
       "    </tr>\n",
       "    <tr>\n",
       "      <th>mean</th>\n",
       "      <td>5.856757</td>\n",
       "      <td>26.348000</td>\n",
       "      <td>3.721333</td>\n",
       "      <td>1.198667</td>\n",
       "    </tr>\n",
       "    <tr>\n",
       "      <th>std</th>\n",
       "      <td>0.824964</td>\n",
       "      <td>203.117929</td>\n",
       "      <td>1.842364</td>\n",
       "      <td>0.763161</td>\n",
       "    </tr>\n",
       "    <tr>\n",
       "      <th>min</th>\n",
       "      <td>4.300000</td>\n",
       "      <td>2.000000</td>\n",
       "      <td>-1.500000</td>\n",
       "      <td>0.100000</td>\n",
       "    </tr>\n",
       "    <tr>\n",
       "      <th>25%</th>\n",
       "      <td>5.100000</td>\n",
       "      <td>2.800000</td>\n",
       "      <td>1.600000</td>\n",
       "      <td>0.300000</td>\n",
       "    </tr>\n",
       "    <tr>\n",
       "      <th>50%</th>\n",
       "      <td>5.800000</td>\n",
       "      <td>3.000000</td>\n",
       "      <td>4.350000</td>\n",
       "      <td>1.300000</td>\n",
       "    </tr>\n",
       "    <tr>\n",
       "      <th>75%</th>\n",
       "      <td>6.400000</td>\n",
       "      <td>3.375000</td>\n",
       "      <td>5.100000</td>\n",
       "      <td>1.800000</td>\n",
       "    </tr>\n",
       "    <tr>\n",
       "      <th>max</th>\n",
       "      <td>7.900000</td>\n",
       "      <td>2000.000000</td>\n",
       "      <td>6.900000</td>\n",
       "      <td>2.500000</td>\n",
       "    </tr>\n",
       "  </tbody>\n",
       "</table>\n",
       "</div>"
      ],
      "text/plain": [
       "       SepalLengthCm  SepalWidthCm  PetalLengthCm  PetalWidthCm\n",
       "count     148.000000    150.000000     150.000000    150.000000\n",
       "mean        5.856757     26.348000       3.721333      1.198667\n",
       "std         0.824964    203.117929       1.842364      0.763161\n",
       "min         4.300000      2.000000      -1.500000      0.100000\n",
       "25%         5.100000      2.800000       1.600000      0.300000\n",
       "50%         5.800000      3.000000       4.350000      1.300000\n",
       "75%         6.400000      3.375000       5.100000      1.800000\n",
       "max         7.900000   2000.000000       6.900000      2.500000"
      ]
     },
     "execution_count": 12,
     "metadata": {},
     "output_type": "execute_result"
    }
   ],
   "source": [
    "# fungsi describe() untuk mengetahui statistika data untuk data numeric \n",
    "# seperti count, mean, standard deviation, maximum, mininum, dan quartile.\n",
    "df.describe()"
   ]
  },
  {
   "cell_type": "code",
   "execution_count": 13,
   "id": "03e295ee",
   "metadata": {
    "execution": {
     "iopub.execute_input": "2023-02-01T15:00:19.574891Z",
     "iopub.status.busy": "2023-02-01T15:00:19.574466Z",
     "iopub.status.idle": "2023-02-01T15:00:19.582766Z",
     "shell.execute_reply": "2023-02-01T15:00:19.581560Z"
    },
    "id": "9qfUMTwDdrlH",
    "outputId": "2bb7a3a4-1655-408d-e6e4-7527c57b7949",
    "papermill": {
     "duration": 0.026913,
     "end_time": "2023-02-01T15:00:19.585227",
     "exception": false,
     "start_time": "2023-02-01T15:00:19.558314",
     "status": "completed"
    },
    "tags": []
   },
   "outputs": [
    {
     "data": {
      "text/plain": [
       "5.856756756756757"
      ]
     },
     "execution_count": 13,
     "metadata": {},
     "output_type": "execute_result"
    }
   ],
   "source": [
    "df[\"SepalLengthCm\"].mean()"
   ]
  },
  {
   "cell_type": "code",
   "execution_count": 14,
   "id": "3ad9865f",
   "metadata": {
    "execution": {
     "iopub.execute_input": "2023-02-01T15:00:19.616079Z",
     "iopub.status.busy": "2023-02-01T15:00:19.615683Z",
     "iopub.status.idle": "2023-02-01T15:00:19.623951Z",
     "shell.execute_reply": "2023-02-01T15:00:19.622335Z"
    },
    "id": "B8ZHjN2UdrlI",
    "outputId": "3e174576-749b-4698-b34f-783d4dc4bb62",
    "papermill": {
     "duration": 0.026865,
     "end_time": "2023-02-01T15:00:19.626622",
     "exception": false,
     "start_time": "2023-02-01T15:00:19.599757",
     "status": "completed"
    },
    "tags": []
   },
   "outputs": [
    {
     "data": {
      "text/plain": [
       "2000.0"
      ]
     },
     "execution_count": 14,
     "metadata": {},
     "output_type": "execute_result"
    }
   ],
   "source": [
    "df[\"SepalWidthCm\"].max()"
   ]
  },
  {
   "cell_type": "code",
   "execution_count": 15,
   "id": "74341d08",
   "metadata": {
    "execution": {
     "iopub.execute_input": "2023-02-01T15:00:19.656976Z",
     "iopub.status.busy": "2023-02-01T15:00:19.656543Z",
     "iopub.status.idle": "2023-02-01T15:00:19.664403Z",
     "shell.execute_reply": "2023-02-01T15:00:19.662912Z"
    },
    "id": "17CH4WT9drlI",
    "outputId": "97da8e05-d9b5-48b7-f0db-7802e2613630",
    "papermill": {
     "duration": 0.025988,
     "end_time": "2023-02-01T15:00:19.667041",
     "exception": false,
     "start_time": "2023-02-01T15:00:19.641053",
     "status": "completed"
    },
    "tags": []
   },
   "outputs": [
    {
     "data": {
      "text/plain": [
       "-1.5"
      ]
     },
     "execution_count": 15,
     "metadata": {},
     "output_type": "execute_result"
    }
   ],
   "source": [
    "df[\"PetalLengthCm\"].min()"
   ]
  },
  {
   "cell_type": "code",
   "execution_count": 16,
   "id": "6c60721e",
   "metadata": {
    "execution": {
     "iopub.execute_input": "2023-02-01T15:00:19.698198Z",
     "iopub.status.busy": "2023-02-01T15:00:19.697753Z",
     "iopub.status.idle": "2023-02-01T15:00:19.705720Z",
     "shell.execute_reply": "2023-02-01T15:00:19.704554Z"
    },
    "id": "ebpIiKCQdrlI",
    "outputId": "46dcb0de-b112-412c-8c0a-cba64afad041",
    "papermill": {
     "duration": 0.026745,
     "end_time": "2023-02-01T15:00:19.708259",
     "exception": false,
     "start_time": "2023-02-01T15:00:19.681514",
     "status": "completed"
    },
    "tags": []
   },
   "outputs": [
    {
     "data": {
      "text/plain": [
       "150"
      ]
     },
     "execution_count": 16,
     "metadata": {},
     "output_type": "execute_result"
    }
   ],
   "source": [
    "df[\"PetalWidthCm\"].count()"
   ]
  },
  {
   "cell_type": "markdown",
   "id": "70708c81",
   "metadata": {
    "id": "CuGqO41PdrlI",
    "papermill": {
     "duration": 0.014562,
     "end_time": "2023-02-01T15:00:19.737247",
     "exception": false,
     "start_time": "2023-02-01T15:00:19.722685",
     "status": "completed"
    },
    "tags": []
   },
   "source": [
    "### Mengatasi Missing Value"
   ]
  },
  {
   "cell_type": "code",
   "execution_count": 17,
   "id": "656b9181",
   "metadata": {
    "execution": {
     "iopub.execute_input": "2023-02-01T15:00:19.769087Z",
     "iopub.status.busy": "2023-02-01T15:00:19.768229Z",
     "iopub.status.idle": "2023-02-01T15:00:19.779264Z",
     "shell.execute_reply": "2023-02-01T15:00:19.778267Z"
    },
    "id": "LIFqkuiMdrlJ",
    "outputId": "eed80da4-d7b1-4747-d209-09f5a88679eb",
    "papermill": {
     "duration": 0.029737,
     "end_time": "2023-02-01T15:00:19.781703",
     "exception": false,
     "start_time": "2023-02-01T15:00:19.751966",
     "status": "completed"
    },
    "tags": []
   },
   "outputs": [
    {
     "data": {
      "text/plain": [
       "SepalLengthCm    2\n",
       "SepalWidthCm     0\n",
       "PetalLengthCm    0\n",
       "PetalWidthCm     0\n",
       "Species          0\n",
       "dtype: int64"
      ]
     },
     "execution_count": 17,
     "metadata": {},
     "output_type": "execute_result"
    }
   ],
   "source": [
    "#cek nilai yang hilang / missing values di dalam data\n",
    "df.isna().sum()"
   ]
  },
  {
   "cell_type": "code",
   "execution_count": 18,
   "id": "b172d29a",
   "metadata": {
    "execution": {
     "iopub.execute_input": "2023-02-01T15:00:19.813185Z",
     "iopub.status.busy": "2023-02-01T15:00:19.812707Z",
     "iopub.status.idle": "2023-02-01T15:00:19.819941Z",
     "shell.execute_reply": "2023-02-01T15:00:19.818510Z"
    },
    "id": "t3RtnIoydrlJ",
    "outputId": "0c82b490-54fd-4c73-becf-89d025192a39",
    "papermill": {
     "duration": 0.026032,
     "end_time": "2023-02-01T15:00:19.822411",
     "exception": false,
     "start_time": "2023-02-01T15:00:19.796379",
     "status": "completed"
    },
    "tags": []
   },
   "outputs": [
    {
     "name": "stdout",
     "output_type": "stream",
     "text": [
      "Nilai NaN pada kolom SepalLengthCm berjumlah : 2\n"
     ]
    }
   ],
   "source": [
    "print('Nilai NaN pada kolom SepalLengthCm berjumlah :',\n",
    "      df[\"SepalLengthCm\"].isna().sum())"
   ]
  },
  {
   "cell_type": "markdown",
   "id": "a4a91296",
   "metadata": {
    "id": "1Cj_zk2GdrlJ",
    "papermill": {
     "duration": 0.01417,
     "end_time": "2023-02-01T15:00:19.851831",
     "exception": false,
     "start_time": "2023-02-01T15:00:19.837661",
     "status": "completed"
    },
    "tags": []
   },
   "source": [
    "#### Mengatasi Missing Value dengan rata-rata"
   ]
  },
  {
   "cell_type": "code",
   "execution_count": 19,
   "id": "c8ba327f",
   "metadata": {
    "execution": {
     "iopub.execute_input": "2023-02-01T15:00:19.882861Z",
     "iopub.status.busy": "2023-02-01T15:00:19.882417Z",
     "iopub.status.idle": "2023-02-01T15:00:19.897879Z",
     "shell.execute_reply": "2023-02-01T15:00:19.896556Z"
    },
    "id": "wf2Zw7kEdrlJ",
    "outputId": "c0eb3636-cde2-4ed2-fa3d-6c2416e11f63",
    "papermill": {
     "duration": 0.034461,
     "end_time": "2023-02-01T15:00:19.901135",
     "exception": false,
     "start_time": "2023-02-01T15:00:19.866674",
     "status": "completed"
    },
    "tags": []
   },
   "outputs": [
    {
     "name": "stdout",
     "output_type": "stream",
     "text": [
      "<class 'pandas.core.frame.DataFrame'>\n",
      "RangeIndex: 150 entries, 0 to 149\n",
      "Data columns (total 5 columns):\n",
      " #   Column         Non-Null Count  Dtype  \n",
      "---  ------         --------------  -----  \n",
      " 0   SepalLengthCm  150 non-null    float64\n",
      " 1   SepalWidthCm   150 non-null    float64\n",
      " 2   PetalLengthCm  150 non-null    float64\n",
      " 3   PetalWidthCm   150 non-null    float64\n",
      " 4   Species        150 non-null    object \n",
      "dtypes: float64(4), object(1)\n",
      "memory usage: 6.0+ KB\n"
     ]
    }
   ],
   "source": [
    "df_fill = df.fillna(df[\"SepalLengthCm\"].mean())\n",
    "df_fill.info()"
   ]
  },
  {
   "cell_type": "code",
   "execution_count": 20,
   "id": "574d2e9e",
   "metadata": {
    "execution": {
     "iopub.execute_input": "2023-02-01T15:00:19.932936Z",
     "iopub.status.busy": "2023-02-01T15:00:19.932532Z",
     "iopub.status.idle": "2023-02-01T15:00:19.938742Z",
     "shell.execute_reply": "2023-02-01T15:00:19.937418Z"
    },
    "id": "fpwZfHAidrlK",
    "outputId": "6b09f29b-0aa7-4723-f5b1-03246f8c6e27",
    "papermill": {
     "duration": 0.025223,
     "end_time": "2023-02-01T15:00:19.941833",
     "exception": false,
     "start_time": "2023-02-01T15:00:19.916610",
     "status": "completed"
    },
    "tags": []
   },
   "outputs": [
    {
     "name": "stdout",
     "output_type": "stream",
     "text": [
      "Ukuran df setelah mengisi missing value dengan rata-rata: 150 baris, 5 kolom.\n"
     ]
    }
   ],
   "source": [
    "# Cetak ukuran awal dataframe\n",
    "print(\"Ukuran df setelah mengisi missing value dengan rata-rata: %d baris, %d kolom.\" % df_fill.shape)"
   ]
  },
  {
   "cell_type": "markdown",
   "id": "9429d0a1",
   "metadata": {
    "id": "-t1UpU28drlK",
    "papermill": {
     "duration": 0.01471,
     "end_time": "2023-02-01T15:00:19.971722",
     "exception": false,
     "start_time": "2023-02-01T15:00:19.957012",
     "status": "completed"
    },
    "tags": []
   },
   "source": [
    "#### Mengatasi Missing Value dengan menghilangkan Missing Value"
   ]
  },
  {
   "cell_type": "code",
   "execution_count": 21,
   "id": "53f8355c",
   "metadata": {
    "execution": {
     "iopub.execute_input": "2023-02-01T15:00:20.003542Z",
     "iopub.status.busy": "2023-02-01T15:00:20.003106Z",
     "iopub.status.idle": "2023-02-01T15:00:20.022973Z",
     "shell.execute_reply": "2023-02-01T15:00:20.021583Z"
    },
    "id": "eELD-FAzdrlL",
    "outputId": "4a47462f-9c22-481e-aaf4-dddb28ce7415",
    "papermill": {
     "duration": 0.038668,
     "end_time": "2023-02-01T15:00:20.025432",
     "exception": false,
     "start_time": "2023-02-01T15:00:19.986764",
     "status": "completed"
    },
    "tags": []
   },
   "outputs": [
    {
     "data": {
      "text/html": [
       "<div>\n",
       "<style scoped>\n",
       "    .dataframe tbody tr th:only-of-type {\n",
       "        vertical-align: middle;\n",
       "    }\n",
       "\n",
       "    .dataframe tbody tr th {\n",
       "        vertical-align: top;\n",
       "    }\n",
       "\n",
       "    .dataframe thead th {\n",
       "        text-align: right;\n",
       "    }\n",
       "</style>\n",
       "<table border=\"1\" class=\"dataframe\">\n",
       "  <thead>\n",
       "    <tr style=\"text-align: right;\">\n",
       "      <th></th>\n",
       "      <th>SepalLengthCm</th>\n",
       "      <th>SepalWidthCm</th>\n",
       "      <th>PetalLengthCm</th>\n",
       "      <th>PetalWidthCm</th>\n",
       "      <th>Species</th>\n",
       "    </tr>\n",
       "  </thead>\n",
       "  <tbody>\n",
       "    <tr>\n",
       "      <th>0</th>\n",
       "      <td>NaN</td>\n",
       "      <td>3.5</td>\n",
       "      <td>1.4</td>\n",
       "      <td>0.2</td>\n",
       "      <td>Iris-setosa</td>\n",
       "    </tr>\n",
       "    <tr>\n",
       "      <th>1</th>\n",
       "      <td>4.9</td>\n",
       "      <td>2000.0</td>\n",
       "      <td>1.4</td>\n",
       "      <td>0.2</td>\n",
       "      <td>Iris-setosa</td>\n",
       "    </tr>\n",
       "    <tr>\n",
       "      <th>2</th>\n",
       "      <td>4.7</td>\n",
       "      <td>3.2</td>\n",
       "      <td>-1.3</td>\n",
       "      <td>0.2</td>\n",
       "      <td>Iris-setosa</td>\n",
       "    </tr>\n",
       "    <tr>\n",
       "      <th>3</th>\n",
       "      <td>4.6</td>\n",
       "      <td>3.1</td>\n",
       "      <td>1.5</td>\n",
       "      <td>0.2</td>\n",
       "      <td>Iris-setosa</td>\n",
       "    </tr>\n",
       "    <tr>\n",
       "      <th>4</th>\n",
       "      <td>5.0</td>\n",
       "      <td>3.6</td>\n",
       "      <td>1.4</td>\n",
       "      <td>0.2</td>\n",
       "      <td>Iris-setosa</td>\n",
       "    </tr>\n",
       "    <tr>\n",
       "      <th>...</th>\n",
       "      <td>...</td>\n",
       "      <td>...</td>\n",
       "      <td>...</td>\n",
       "      <td>...</td>\n",
       "      <td>...</td>\n",
       "    </tr>\n",
       "    <tr>\n",
       "      <th>145</th>\n",
       "      <td>6.7</td>\n",
       "      <td>3.0</td>\n",
       "      <td>5.2</td>\n",
       "      <td>2.3</td>\n",
       "      <td>Iris-virginica</td>\n",
       "    </tr>\n",
       "    <tr>\n",
       "      <th>146</th>\n",
       "      <td>6.3</td>\n",
       "      <td>2.5</td>\n",
       "      <td>5.0</td>\n",
       "      <td>1.9</td>\n",
       "      <td>Iris-virginica</td>\n",
       "    </tr>\n",
       "    <tr>\n",
       "      <th>147</th>\n",
       "      <td>6.5</td>\n",
       "      <td>3.0</td>\n",
       "      <td>5.2</td>\n",
       "      <td>2.0</td>\n",
       "      <td>Iris-virginica</td>\n",
       "    </tr>\n",
       "    <tr>\n",
       "      <th>148</th>\n",
       "      <td>6.2</td>\n",
       "      <td>3.4</td>\n",
       "      <td>5.4</td>\n",
       "      <td>2.3</td>\n",
       "      <td>Iris-virginica</td>\n",
       "    </tr>\n",
       "    <tr>\n",
       "      <th>149</th>\n",
       "      <td>5.9</td>\n",
       "      <td>3.0</td>\n",
       "      <td>5.1</td>\n",
       "      <td>1.8</td>\n",
       "      <td>Iris-virginica</td>\n",
       "    </tr>\n",
       "  </tbody>\n",
       "</table>\n",
       "<p>150 rows × 5 columns</p>\n",
       "</div>"
      ],
      "text/plain": [
       "     SepalLengthCm  SepalWidthCm  PetalLengthCm  PetalWidthCm         Species\n",
       "0              NaN           3.5            1.4           0.2     Iris-setosa\n",
       "1              4.9        2000.0            1.4           0.2     Iris-setosa\n",
       "2              4.7           3.2           -1.3           0.2     Iris-setosa\n",
       "3              4.6           3.1            1.5           0.2     Iris-setosa\n",
       "4              5.0           3.6            1.4           0.2     Iris-setosa\n",
       "..             ...           ...            ...           ...             ...\n",
       "145            6.7           3.0            5.2           2.3  Iris-virginica\n",
       "146            6.3           2.5            5.0           1.9  Iris-virginica\n",
       "147            6.5           3.0            5.2           2.0  Iris-virginica\n",
       "148            6.2           3.4            5.4           2.3  Iris-virginica\n",
       "149            5.9           3.0            5.1           1.8  Iris-virginica\n",
       "\n",
       "[150 rows x 5 columns]"
      ]
     },
     "execution_count": 21,
     "metadata": {},
     "output_type": "execute_result"
    }
   ],
   "source": [
    "df"
   ]
  },
  {
   "cell_type": "code",
   "execution_count": 22,
   "id": "7d75d6b3",
   "metadata": {
    "execution": {
     "iopub.execute_input": "2023-02-01T15:00:20.057335Z",
     "iopub.status.busy": "2023-02-01T15:00:20.056943Z",
     "iopub.status.idle": "2023-02-01T15:00:20.066031Z",
     "shell.execute_reply": "2023-02-01T15:00:20.064713Z"
    },
    "id": "9QvI5oUNdrlL",
    "outputId": "292fb2b2-80a9-4cf0-cd61-a05f4b52b20a",
    "papermill": {
     "duration": 0.028371,
     "end_time": "2023-02-01T15:00:20.069012",
     "exception": false,
     "start_time": "2023-02-01T15:00:20.040641",
     "status": "completed"
    },
    "tags": []
   },
   "outputs": [
    {
     "name": "stdout",
     "output_type": "stream",
     "text": [
      "Ukuran awal df: 150 baris, 5 kolom.\n",
      "Ukuran df setelah dibuang baris yang memiliki missing value: 148 baris, 5 kolom.\n"
     ]
    }
   ],
   "source": [
    "# Cetak ukuran awal dataframe\n",
    "print(\"Ukuran awal df: %d baris, %d kolom.\" % df.shape)\n",
    "\n",
    "# Drop baris jika ada satu saja data yang missing dengan function dropna() dan cetak ukurannya \n",
    "df = df.dropna()\n",
    "print(\"Ukuran df setelah dibuang baris yang memiliki missing value: %d baris, %d kolom.\" % df.shape)"
   ]
  },
  {
   "cell_type": "markdown",
   "id": "9022c62b",
   "metadata": {
    "id": "LD4KbixjdrlL",
    "papermill": {
     "duration": 0.014487,
     "end_time": "2023-02-01T15:00:20.098464",
     "exception": false,
     "start_time": "2023-02-01T15:00:20.083977",
     "status": "completed"
    },
    "tags": []
   },
   "source": [
    "Melakukan pemeriksaan kembali setelah menghapus missing value"
   ]
  },
  {
   "cell_type": "code",
   "execution_count": 23,
   "id": "9e6f5391",
   "metadata": {
    "execution": {
     "iopub.execute_input": "2023-02-01T15:00:20.129877Z",
     "iopub.status.busy": "2023-02-01T15:00:20.129273Z",
     "iopub.status.idle": "2023-02-01T15:00:20.157184Z",
     "shell.execute_reply": "2023-02-01T15:00:20.155660Z"
    },
    "id": "Il0_Gw-MdrlM",
    "outputId": "0dabcdaa-7e4f-45cf-96dd-cd815e41682a",
    "papermill": {
     "duration": 0.046793,
     "end_time": "2023-02-01T15:00:20.159996",
     "exception": false,
     "start_time": "2023-02-01T15:00:20.113203",
     "status": "completed"
    },
    "tags": []
   },
   "outputs": [
    {
     "data": {
      "text/html": [
       "<div>\n",
       "<style scoped>\n",
       "    .dataframe tbody tr th:only-of-type {\n",
       "        vertical-align: middle;\n",
       "    }\n",
       "\n",
       "    .dataframe tbody tr th {\n",
       "        vertical-align: top;\n",
       "    }\n",
       "\n",
       "    .dataframe thead th {\n",
       "        text-align: right;\n",
       "    }\n",
       "</style>\n",
       "<table border=\"1\" class=\"dataframe\">\n",
       "  <thead>\n",
       "    <tr style=\"text-align: right;\">\n",
       "      <th></th>\n",
       "      <th>SepalLengthCm</th>\n",
       "      <th>SepalWidthCm</th>\n",
       "      <th>PetalLengthCm</th>\n",
       "      <th>PetalWidthCm</th>\n",
       "    </tr>\n",
       "  </thead>\n",
       "  <tbody>\n",
       "    <tr>\n",
       "      <th>count</th>\n",
       "      <td>148.000000</td>\n",
       "      <td>148.000000</td>\n",
       "      <td>148.000000</td>\n",
       "      <td>148.000000</td>\n",
       "    </tr>\n",
       "    <tr>\n",
       "      <th>mean</th>\n",
       "      <td>5.856757</td>\n",
       "      <td>26.657432</td>\n",
       "      <td>3.752703</td>\n",
       "      <td>1.211486</td>\n",
       "    </tr>\n",
       "    <tr>\n",
       "      <th>std</th>\n",
       "      <td>0.824964</td>\n",
       "      <td>204.477337</td>\n",
       "      <td>1.834716</td>\n",
       "      <td>0.760194</td>\n",
       "    </tr>\n",
       "    <tr>\n",
       "      <th>min</th>\n",
       "      <td>4.300000</td>\n",
       "      <td>2.000000</td>\n",
       "      <td>-1.500000</td>\n",
       "      <td>0.100000</td>\n",
       "    </tr>\n",
       "    <tr>\n",
       "      <th>25%</th>\n",
       "      <td>5.100000</td>\n",
       "      <td>2.800000</td>\n",
       "      <td>1.600000</td>\n",
       "      <td>0.300000</td>\n",
       "    </tr>\n",
       "    <tr>\n",
       "      <th>50%</th>\n",
       "      <td>5.800000</td>\n",
       "      <td>3.000000</td>\n",
       "      <td>4.400000</td>\n",
       "      <td>1.300000</td>\n",
       "    </tr>\n",
       "    <tr>\n",
       "      <th>75%</th>\n",
       "      <td>6.400000</td>\n",
       "      <td>3.300000</td>\n",
       "      <td>5.100000</td>\n",
       "      <td>1.800000</td>\n",
       "    </tr>\n",
       "    <tr>\n",
       "      <th>max</th>\n",
       "      <td>7.900000</td>\n",
       "      <td>2000.000000</td>\n",
       "      <td>6.900000</td>\n",
       "      <td>2.500000</td>\n",
       "    </tr>\n",
       "  </tbody>\n",
       "</table>\n",
       "</div>"
      ],
      "text/plain": [
       "       SepalLengthCm  SepalWidthCm  PetalLengthCm  PetalWidthCm\n",
       "count     148.000000    148.000000     148.000000    148.000000\n",
       "mean        5.856757     26.657432       3.752703      1.211486\n",
       "std         0.824964    204.477337       1.834716      0.760194\n",
       "min         4.300000      2.000000      -1.500000      0.100000\n",
       "25%         5.100000      2.800000       1.600000      0.300000\n",
       "50%         5.800000      3.000000       4.400000      1.300000\n",
       "75%         6.400000      3.300000       5.100000      1.800000\n",
       "max         7.900000   2000.000000       6.900000      2.500000"
      ]
     },
     "execution_count": 23,
     "metadata": {},
     "output_type": "execute_result"
    }
   ],
   "source": [
    "df.describe()"
   ]
  },
  {
   "cell_type": "code",
   "execution_count": 24,
   "id": "8fe20fea",
   "metadata": {
    "execution": {
     "iopub.execute_input": "2023-02-01T15:00:20.194221Z",
     "iopub.status.busy": "2023-02-01T15:00:20.193707Z",
     "iopub.status.idle": "2023-02-01T15:00:20.210586Z",
     "shell.execute_reply": "2023-02-01T15:00:20.208799Z"
    },
    "id": "-ocERO4mdrlM",
    "outputId": "0171b8db-1071-4b33-afdd-1f1833e77801",
    "papermill": {
     "duration": 0.0375,
     "end_time": "2023-02-01T15:00:20.213379",
     "exception": false,
     "start_time": "2023-02-01T15:00:20.175879",
     "status": "completed"
    },
    "tags": []
   },
   "outputs": [
    {
     "name": "stdout",
     "output_type": "stream",
     "text": [
      "<class 'pandas.core.frame.DataFrame'>\n",
      "Int64Index: 148 entries, 1 to 149\n",
      "Data columns (total 5 columns):\n",
      " #   Column         Non-Null Count  Dtype  \n",
      "---  ------         --------------  -----  \n",
      " 0   SepalLengthCm  148 non-null    float64\n",
      " 1   SepalWidthCm   148 non-null    float64\n",
      " 2   PetalLengthCm  148 non-null    float64\n",
      " 3   PetalWidthCm   148 non-null    float64\n",
      " 4   Species        148 non-null    object \n",
      "dtypes: float64(4), object(1)\n",
      "memory usage: 6.9+ KB\n"
     ]
    }
   ],
   "source": [
    "df.info()"
   ]
  },
  {
   "cell_type": "markdown",
   "id": "2f9dc3a3",
   "metadata": {
    "id": "ehv21s6rdrlM",
    "papermill": {
     "duration": 0.015071,
     "end_time": "2023-02-01T15:00:20.243816",
     "exception": false,
     "start_time": "2023-02-01T15:00:20.228745",
     "status": "completed"
    },
    "tags": []
   },
   "source": [
    "### Melakukan analisa korelasi"
   ]
  },
  {
   "cell_type": "code",
   "execution_count": 25,
   "id": "69d5805b",
   "metadata": {
    "execution": {
     "iopub.execute_input": "2023-02-01T15:00:20.277163Z",
     "iopub.status.busy": "2023-02-01T15:00:20.276382Z",
     "iopub.status.idle": "2023-02-01T15:00:20.291628Z",
     "shell.execute_reply": "2023-02-01T15:00:20.290366Z"
    },
    "id": "PmZk8fZAdrlM",
    "outputId": "0e68367d-d8ca-4331-f86e-e18893f15470",
    "papermill": {
     "duration": 0.035482,
     "end_time": "2023-02-01T15:00:20.294533",
     "exception": false,
     "start_time": "2023-02-01T15:00:20.259051",
     "status": "completed"
    },
    "tags": []
   },
   "outputs": [
    {
     "data": {
      "text/html": [
       "<div>\n",
       "<style scoped>\n",
       "    .dataframe tbody tr th:only-of-type {\n",
       "        vertical-align: middle;\n",
       "    }\n",
       "\n",
       "    .dataframe tbody tr th {\n",
       "        vertical-align: top;\n",
       "    }\n",
       "\n",
       "    .dataframe thead th {\n",
       "        text-align: right;\n",
       "    }\n",
       "</style>\n",
       "<table border=\"1\" class=\"dataframe\">\n",
       "  <thead>\n",
       "    <tr style=\"text-align: right;\">\n",
       "      <th></th>\n",
       "      <th>SepalLengthCm</th>\n",
       "      <th>SepalWidthCm</th>\n",
       "      <th>PetalLengthCm</th>\n",
       "      <th>PetalWidthCm</th>\n",
       "    </tr>\n",
       "  </thead>\n",
       "  <tbody>\n",
       "    <tr>\n",
       "      <th>SepalLengthCm</th>\n",
       "      <td>1.000000</td>\n",
       "      <td>-0.165207</td>\n",
       "      <td>0.856679</td>\n",
       "      <td>0.814999</td>\n",
       "    </tr>\n",
       "    <tr>\n",
       "      <th>SepalWidthCm</th>\n",
       "      <td>-0.165207</td>\n",
       "      <td>1.000000</td>\n",
       "      <td>-0.149925</td>\n",
       "      <td>-0.155407</td>\n",
       "    </tr>\n",
       "    <tr>\n",
       "      <th>PetalLengthCm</th>\n",
       "      <td>0.856679</td>\n",
       "      <td>-0.149925</td>\n",
       "      <td>1.000000</td>\n",
       "      <td>0.947635</td>\n",
       "    </tr>\n",
       "    <tr>\n",
       "      <th>PetalWidthCm</th>\n",
       "      <td>0.814999</td>\n",
       "      <td>-0.155407</td>\n",
       "      <td>0.947635</td>\n",
       "      <td>1.000000</td>\n",
       "    </tr>\n",
       "  </tbody>\n",
       "</table>\n",
       "</div>"
      ],
      "text/plain": [
       "               SepalLengthCm  SepalWidthCm  PetalLengthCm  PetalWidthCm\n",
       "SepalLengthCm       1.000000     -0.165207       0.856679      0.814999\n",
       "SepalWidthCm       -0.165207      1.000000      -0.149925     -0.155407\n",
       "PetalLengthCm       0.856679     -0.149925       1.000000      0.947635\n",
       "PetalWidthCm        0.814999     -0.155407       0.947635      1.000000"
      ]
     },
     "execution_count": 25,
     "metadata": {},
     "output_type": "execute_result"
    }
   ],
   "source": [
    "df.iloc[:,0:4].corr()"
   ]
  },
  {
   "cell_type": "markdown",
   "id": "53d211b8",
   "metadata": {
    "id": "hwrYHd-SdrlN",
    "papermill": {
     "duration": 0.014939,
     "end_time": "2023-02-01T15:00:20.325379",
     "exception": false,
     "start_time": "2023-02-01T15:00:20.310440",
     "status": "completed"
    },
    "tags": []
   },
   "source": [
    "Coba interpretasikan hasil dari analisis korelasi di atas"
   ]
  },
  {
   "cell_type": "markdown",
   "id": "fd5f436f",
   "metadata": {
    "id": "21KeOnWVdrlN",
    "papermill": {
     "duration": 0.014714,
     "end_time": "2023-02-01T15:00:20.355308",
     "exception": false,
     "start_time": "2023-02-01T15:00:20.340594",
     "status": "completed"
    },
    "tags": []
   },
   "source": [
    "### Melakukan visualisasi dengan scatter plot"
   ]
  },
  {
   "cell_type": "code",
   "execution_count": 26,
   "id": "8c2feb97",
   "metadata": {
    "execution": {
     "iopub.execute_input": "2023-02-01T15:00:20.388663Z",
     "iopub.status.busy": "2023-02-01T15:00:20.387354Z",
     "iopub.status.idle": "2023-02-01T15:00:20.660937Z",
     "shell.execute_reply": "2023-02-01T15:00:20.659557Z"
    },
    "id": "6NGAwGssdrlN",
    "outputId": "0b38f0c2-9c79-41ba-a70c-681b690f1fa1",
    "papermill": {
     "duration": 0.292931,
     "end_time": "2023-02-01T15:00:20.663597",
     "exception": false,
     "start_time": "2023-02-01T15:00:20.370666",
     "status": "completed"
    },
    "tags": []
   },
   "outputs": [
    {
     "data": {
      "text/plain": [
       "<AxesSubplot:xlabel='PetalLengthCm', ylabel='PetalWidthCm'>"
      ]
     },
     "execution_count": 26,
     "metadata": {},
     "output_type": "execute_result"
    },
    {
     "data": {
      "image/png": "[encoded data removed]",
      "text/plain": [
       "<Figure size 432x288 with 1 Axes>"
      ]
     },
     "metadata": {
      "needs_background": "light"
     },
     "output_type": "display_data"
    }
   ],
   "source": [
    "df.plot.scatter(x='PetalLengthCm',y='PetalWidthCm',c='pink')"
   ]
  },
  {
   "cell_type": "code",
   "execution_count": 27,
   "id": "c20a1fa8",
   "metadata": {
    "execution": {
     "iopub.execute_input": "2023-02-01T15:00:20.698215Z",
     "iopub.status.busy": "2023-02-01T15:00:20.697393Z",
     "iopub.status.idle": "2023-02-01T15:00:20.925150Z",
     "shell.execute_reply": "2023-02-01T15:00:20.924122Z"
    },
    "id": "XwKHlZSBdrlN",
    "outputId": "b14711f3-c7ec-4615-93a6-21196b6e263a",
    "papermill": {
     "duration": 0.248683,
     "end_time": "2023-02-01T15:00:20.928233",
     "exception": false,
     "start_time": "2023-02-01T15:00:20.679550",
     "status": "completed"
    },
    "tags": []
   },
   "outputs": [
    {
     "data": {
      "text/plain": [
       "<AxesSubplot:>"
      ]
     },
     "execution_count": 27,
     "metadata": {},
     "output_type": "execute_result"
    },
    {
     "data": {
      "image/png": "[encoded data removed]",
      "text/plain": [
       "<Figure size 432x288 with 1 Axes>"
      ]
     },
     "metadata": {
      "needs_background": "light"
     },
     "output_type": "display_data"
    }
   ],
   "source": [
    "df.boxplot()"
   ]
  },
  {
   "cell_type": "markdown",
   "id": "6b3277d5",
   "metadata": {
    "id": "d6-4PhOGdrlO",
    "papermill": {
     "duration": 0.015529,
     "end_time": "2023-02-01T15:00:20.959853",
     "exception": false,
     "start_time": "2023-02-01T15:00:20.944324",
     "status": "completed"
    },
    "tags": []
   },
   "source": [
    "Data terlihat aneh karena terdapat beberapa outlier"
   ]
  },
  {
   "cell_type": "markdown",
   "id": "1381a4b0",
   "metadata": {
    "id": "xOErGiSHdrlO",
    "papermill": {
     "duration": 0.015966,
     "end_time": "2023-02-01T15:00:20.992617",
     "exception": false,
     "start_time": "2023-02-01T15:00:20.976651",
     "status": "completed"
    },
    "tags": []
   },
   "source": [
    "### Melakukan pembersihan data"
   ]
  },
  {
   "cell_type": "code",
   "execution_count": 28,
   "id": "6f7a72cc",
   "metadata": {
    "execution": {
     "iopub.execute_input": "2023-02-01T15:00:21.027675Z",
     "iopub.status.busy": "2023-02-01T15:00:21.026957Z",
     "iopub.status.idle": "2023-02-01T15:00:21.032736Z",
     "shell.execute_reply": "2023-02-01T15:00:21.031873Z"
    },
    "id": "F41z2nVndrlO",
    "papermill": {
     "duration": 0.026705,
     "end_time": "2023-02-01T15:00:21.035402",
     "exception": false,
     "start_time": "2023-02-01T15:00:21.008697",
     "status": "completed"
    },
    "tags": []
   },
   "outputs": [],
   "source": [
    "def detect_outliers(df, x):\n",
    " Q1 = df[x].quantile(0.25)\n",
    " Q3 = df[x].quantile(0.75)\n",
    " IQR = Q3-Q1\n",
    " return df[(df[x] < Q1-1.5*IQR) | (df[x] > Q3+1.5*IQR)]"
   ]
  },
  {
   "cell_type": "code",
   "execution_count": 29,
   "id": "8bb1a7c8",
   "metadata": {
    "execution": {
     "iopub.execute_input": "2023-02-01T15:00:21.070569Z",
     "iopub.status.busy": "2023-02-01T15:00:21.069875Z",
     "iopub.status.idle": "2023-02-01T15:00:21.086481Z",
     "shell.execute_reply": "2023-02-01T15:00:21.085298Z"
    },
    "id": "igIVnUjadrlO",
    "outputId": "2df6d56a-4282-49e1-c299-e46dc612c4a8",
    "papermill": {
     "duration": 0.036387,
     "end_time": "2023-02-01T15:00:21.088773",
     "exception": false,
     "start_time": "2023-02-01T15:00:21.052386",
     "status": "completed"
    },
    "tags": []
   },
   "outputs": [
    {
     "data": {
      "text/html": [
       "<div>\n",
       "<style scoped>\n",
       "    .dataframe tbody tr th:only-of-type {\n",
       "        vertical-align: middle;\n",
       "    }\n",
       "\n",
       "    .dataframe tbody tr th {\n",
       "        vertical-align: top;\n",
       "    }\n",
       "\n",
       "    .dataframe thead th {\n",
       "        text-align: right;\n",
       "    }\n",
       "</style>\n",
       "<table border=\"1\" class=\"dataframe\">\n",
       "  <thead>\n",
       "    <tr style=\"text-align: right;\">\n",
       "      <th></th>\n",
       "      <th>SepalLengthCm</th>\n",
       "      <th>SepalWidthCm</th>\n",
       "      <th>PetalLengthCm</th>\n",
       "      <th>PetalWidthCm</th>\n",
       "      <th>Species</th>\n",
       "    </tr>\n",
       "  </thead>\n",
       "  <tbody>\n",
       "    <tr>\n",
       "      <th>1</th>\n",
       "      <td>4.9</td>\n",
       "      <td>2000.0</td>\n",
       "      <td>1.4</td>\n",
       "      <td>0.2</td>\n",
       "      <td>Iris-setosa</td>\n",
       "    </tr>\n",
       "    <tr>\n",
       "      <th>8</th>\n",
       "      <td>4.4</td>\n",
       "      <td>1500.0</td>\n",
       "      <td>1.4</td>\n",
       "      <td>0.2</td>\n",
       "      <td>Iris-setosa</td>\n",
       "    </tr>\n",
       "    <tr>\n",
       "      <th>15</th>\n",
       "      <td>5.7</td>\n",
       "      <td>4.4</td>\n",
       "      <td>1.5</td>\n",
       "      <td>0.4</td>\n",
       "      <td>Iris-setosa</td>\n",
       "    </tr>\n",
       "    <tr>\n",
       "      <th>32</th>\n",
       "      <td>5.2</td>\n",
       "      <td>4.1</td>\n",
       "      <td>1.5</td>\n",
       "      <td>0.1</td>\n",
       "      <td>Iris-setosa</td>\n",
       "    </tr>\n",
       "    <tr>\n",
       "      <th>33</th>\n",
       "      <td>5.5</td>\n",
       "      <td>4.2</td>\n",
       "      <td>1.4</td>\n",
       "      <td>0.2</td>\n",
       "      <td>Iris-setosa</td>\n",
       "    </tr>\n",
       "    <tr>\n",
       "      <th>60</th>\n",
       "      <td>5.0</td>\n",
       "      <td>2.0</td>\n",
       "      <td>3.5</td>\n",
       "      <td>1.0</td>\n",
       "      <td>Iris-versicolor</td>\n",
       "    </tr>\n",
       "  </tbody>\n",
       "</table>\n",
       "</div>"
      ],
      "text/plain": [
       "    SepalLengthCm  SepalWidthCm  PetalLengthCm  PetalWidthCm          Species\n",
       "1             4.9        2000.0            1.4           0.2      Iris-setosa\n",
       "8             4.4        1500.0            1.4           0.2      Iris-setosa\n",
       "15            5.7           4.4            1.5           0.4      Iris-setosa\n",
       "32            5.2           4.1            1.5           0.1      Iris-setosa\n",
       "33            5.5           4.2            1.4           0.2      Iris-setosa\n",
       "60            5.0           2.0            3.5           1.0  Iris-versicolor"
      ]
     },
     "execution_count": 29,
     "metadata": {},
     "output_type": "execute_result"
    }
   ],
   "source": [
    "detect_outliers(df, \"SepalWidthCm\")"
   ]
  },
  {
   "cell_type": "code",
   "execution_count": 30,
   "id": "4a1387c8",
   "metadata": {
    "execution": {
     "iopub.execute_input": "2023-02-01T15:00:21.125405Z",
     "iopub.status.busy": "2023-02-01T15:00:21.124730Z",
     "iopub.status.idle": "2023-02-01T15:00:21.143025Z",
     "shell.execute_reply": "2023-02-01T15:00:21.142048Z"
    },
    "id": "Ab30Cli7drlP",
    "outputId": "1cfc371a-9767-4c46-e818-79d336902d21",
    "papermill": {
     "duration": 0.03874,
     "end_time": "2023-02-01T15:00:21.145316",
     "exception": false,
     "start_time": "2023-02-01T15:00:21.106576",
     "status": "completed"
    },
    "tags": []
   },
   "outputs": [
    {
     "data": {
      "text/html": [
       "<div>\n",
       "<style scoped>\n",
       "    .dataframe tbody tr th:only-of-type {\n",
       "        vertical-align: middle;\n",
       "    }\n",
       "\n",
       "    .dataframe tbody tr th {\n",
       "        vertical-align: top;\n",
       "    }\n",
       "\n",
       "    .dataframe thead th {\n",
       "        text-align: right;\n",
       "    }\n",
       "</style>\n",
       "<table border=\"1\" class=\"dataframe\">\n",
       "  <thead>\n",
       "    <tr style=\"text-align: right;\">\n",
       "      <th></th>\n",
       "      <th>SepalLengthCm</th>\n",
       "      <th>SepalWidthCm</th>\n",
       "      <th>PetalLengthCm</th>\n",
       "      <th>PetalWidthCm</th>\n",
       "      <th>Species</th>\n",
       "    </tr>\n",
       "  </thead>\n",
       "  <tbody>\n",
       "    <tr>\n",
       "      <th>2</th>\n",
       "      <td>4.7</td>\n",
       "      <td>3.2</td>\n",
       "      <td>-1.3</td>\n",
       "      <td>0.2</td>\n",
       "      <td>Iris-setosa</td>\n",
       "    </tr>\n",
       "    <tr>\n",
       "      <th>3</th>\n",
       "      <td>4.6</td>\n",
       "      <td>3.1</td>\n",
       "      <td>1.5</td>\n",
       "      <td>0.2</td>\n",
       "      <td>Iris-setosa</td>\n",
       "    </tr>\n",
       "    <tr>\n",
       "      <th>4</th>\n",
       "      <td>5.0</td>\n",
       "      <td>3.6</td>\n",
       "      <td>1.4</td>\n",
       "      <td>0.2</td>\n",
       "      <td>Iris-setosa</td>\n",
       "    </tr>\n",
       "    <tr>\n",
       "      <th>5</th>\n",
       "      <td>5.4</td>\n",
       "      <td>3.9</td>\n",
       "      <td>1.7</td>\n",
       "      <td>0.4</td>\n",
       "      <td>Iris-setosa</td>\n",
       "    </tr>\n",
       "    <tr>\n",
       "      <th>7</th>\n",
       "      <td>5.0</td>\n",
       "      <td>3.4</td>\n",
       "      <td>-1.5</td>\n",
       "      <td>0.2</td>\n",
       "      <td>Iris-setosa</td>\n",
       "    </tr>\n",
       "    <tr>\n",
       "      <th>...</th>\n",
       "      <td>...</td>\n",
       "      <td>...</td>\n",
       "      <td>...</td>\n",
       "      <td>...</td>\n",
       "      <td>...</td>\n",
       "    </tr>\n",
       "    <tr>\n",
       "      <th>145</th>\n",
       "      <td>6.7</td>\n",
       "      <td>3.0</td>\n",
       "      <td>5.2</td>\n",
       "      <td>2.3</td>\n",
       "      <td>Iris-virginica</td>\n",
       "    </tr>\n",
       "    <tr>\n",
       "      <th>146</th>\n",
       "      <td>6.3</td>\n",
       "      <td>2.5</td>\n",
       "      <td>5.0</td>\n",
       "      <td>1.9</td>\n",
       "      <td>Iris-virginica</td>\n",
       "    </tr>\n",
       "    <tr>\n",
       "      <th>147</th>\n",
       "      <td>6.5</td>\n",
       "      <td>3.0</td>\n",
       "      <td>5.2</td>\n",
       "      <td>2.0</td>\n",
       "      <td>Iris-virginica</td>\n",
       "    </tr>\n",
       "    <tr>\n",
       "      <th>148</th>\n",
       "      <td>6.2</td>\n",
       "      <td>3.4</td>\n",
       "      <td>5.4</td>\n",
       "      <td>2.3</td>\n",
       "      <td>Iris-virginica</td>\n",
       "    </tr>\n",
       "    <tr>\n",
       "      <th>149</th>\n",
       "      <td>5.9</td>\n",
       "      <td>3.0</td>\n",
       "      <td>5.1</td>\n",
       "      <td>1.8</td>\n",
       "      <td>Iris-virginica</td>\n",
       "    </tr>\n",
       "  </tbody>\n",
       "</table>\n",
       "<p>143 rows × 5 columns</p>\n",
       "</div>"
      ],
      "text/plain": [
       "     SepalLengthCm  SepalWidthCm  PetalLengthCm  PetalWidthCm         Species\n",
       "2              4.7           3.2           -1.3           0.2     Iris-setosa\n",
       "3              4.6           3.1            1.5           0.2     Iris-setosa\n",
       "4              5.0           3.6            1.4           0.2     Iris-setosa\n",
       "5              5.4           3.9            1.7           0.4     Iris-setosa\n",
       "7              5.0           3.4           -1.5           0.2     Iris-setosa\n",
       "..             ...           ...            ...           ...             ...\n",
       "145            6.7           3.0            5.2           2.3  Iris-virginica\n",
       "146            6.3           2.5            5.0           1.9  Iris-virginica\n",
       "147            6.5           3.0            5.2           2.0  Iris-virginica\n",
       "148            6.2           3.4            5.4           2.3  Iris-virginica\n",
       "149            5.9           3.0            5.1           1.8  Iris-virginica\n",
       "\n",
       "[143 rows x 5 columns]"
      ]
     },
     "execution_count": 30,
     "metadata": {},
     "output_type": "execute_result"
    }
   ],
   "source": [
    "df = df.drop((df[df['SepalWidthCm']>4]).index, axis=0)\n",
    "df"
   ]
  },
  {
   "cell_type": "code",
   "execution_count": 31,
   "id": "394530f1",
   "metadata": {
    "execution": {
     "iopub.execute_input": "2023-02-01T15:00:21.181281Z",
     "iopub.status.busy": "2023-02-01T15:00:21.180599Z",
     "iopub.status.idle": "2023-02-01T15:00:21.199055Z",
     "shell.execute_reply": "2023-02-01T15:00:21.197868Z"
    },
    "id": "Gv-i2qcTdrlP",
    "outputId": "6daba079-25ec-4a04-a1f0-b9e8d6ea5065",
    "papermill": {
     "duration": 0.039752,
     "end_time": "2023-02-01T15:00:21.201787",
     "exception": false,
     "start_time": "2023-02-01T15:00:21.162035",
     "status": "completed"
    },
    "tags": []
   },
   "outputs": [
    {
     "data": {
      "text/html": [
       "<div>\n",
       "<style scoped>\n",
       "    .dataframe tbody tr th:only-of-type {\n",
       "        vertical-align: middle;\n",
       "    }\n",
       "\n",
       "    .dataframe tbody tr th {\n",
       "        vertical-align: top;\n",
       "    }\n",
       "\n",
       "    .dataframe thead th {\n",
       "        text-align: right;\n",
       "    }\n",
       "</style>\n",
       "<table border=\"1\" class=\"dataframe\">\n",
       "  <thead>\n",
       "    <tr style=\"text-align: right;\">\n",
       "      <th></th>\n",
       "      <th>SepalLengthCm</th>\n",
       "      <th>SepalWidthCm</th>\n",
       "      <th>PetalLengthCm</th>\n",
       "      <th>PetalWidthCm</th>\n",
       "      <th>Species</th>\n",
       "    </tr>\n",
       "  </thead>\n",
       "  <tbody>\n",
       "    <tr>\n",
       "      <th>2</th>\n",
       "      <td>4.7</td>\n",
       "      <td>3.2</td>\n",
       "      <td>-1.3</td>\n",
       "      <td>0.2</td>\n",
       "      <td>Iris-setosa</td>\n",
       "    </tr>\n",
       "    <tr>\n",
       "      <th>3</th>\n",
       "      <td>4.6</td>\n",
       "      <td>3.1</td>\n",
       "      <td>1.5</td>\n",
       "      <td>0.2</td>\n",
       "      <td>Iris-setosa</td>\n",
       "    </tr>\n",
       "    <tr>\n",
       "      <th>4</th>\n",
       "      <td>5.0</td>\n",
       "      <td>3.6</td>\n",
       "      <td>1.4</td>\n",
       "      <td>0.2</td>\n",
       "      <td>Iris-setosa</td>\n",
       "    </tr>\n",
       "    <tr>\n",
       "      <th>5</th>\n",
       "      <td>5.4</td>\n",
       "      <td>3.9</td>\n",
       "      <td>1.7</td>\n",
       "      <td>0.4</td>\n",
       "      <td>Iris-setosa</td>\n",
       "    </tr>\n",
       "    <tr>\n",
       "      <th>7</th>\n",
       "      <td>5.0</td>\n",
       "      <td>3.4</td>\n",
       "      <td>-1.5</td>\n",
       "      <td>0.2</td>\n",
       "      <td>Iris-setosa</td>\n",
       "    </tr>\n",
       "    <tr>\n",
       "      <th>...</th>\n",
       "      <td>...</td>\n",
       "      <td>...</td>\n",
       "      <td>...</td>\n",
       "      <td>...</td>\n",
       "      <td>...</td>\n",
       "    </tr>\n",
       "    <tr>\n",
       "      <th>145</th>\n",
       "      <td>6.7</td>\n",
       "      <td>3.0</td>\n",
       "      <td>5.2</td>\n",
       "      <td>2.3</td>\n",
       "      <td>Iris-virginica</td>\n",
       "    </tr>\n",
       "    <tr>\n",
       "      <th>146</th>\n",
       "      <td>6.3</td>\n",
       "      <td>2.5</td>\n",
       "      <td>5.0</td>\n",
       "      <td>1.9</td>\n",
       "      <td>Iris-virginica</td>\n",
       "    </tr>\n",
       "    <tr>\n",
       "      <th>147</th>\n",
       "      <td>6.5</td>\n",
       "      <td>3.0</td>\n",
       "      <td>5.2</td>\n",
       "      <td>2.0</td>\n",
       "      <td>Iris-virginica</td>\n",
       "    </tr>\n",
       "    <tr>\n",
       "      <th>148</th>\n",
       "      <td>6.2</td>\n",
       "      <td>3.4</td>\n",
       "      <td>5.4</td>\n",
       "      <td>2.3</td>\n",
       "      <td>Iris-virginica</td>\n",
       "    </tr>\n",
       "    <tr>\n",
       "      <th>149</th>\n",
       "      <td>5.9</td>\n",
       "      <td>3.0</td>\n",
       "      <td>5.1</td>\n",
       "      <td>1.8</td>\n",
       "      <td>Iris-virginica</td>\n",
       "    </tr>\n",
       "  </tbody>\n",
       "</table>\n",
       "<p>142 rows × 5 columns</p>\n",
       "</div>"
      ],
      "text/plain": [
       "     SepalLengthCm  SepalWidthCm  PetalLengthCm  PetalWidthCm         Species\n",
       "2              4.7           3.2           -1.3           0.2     Iris-setosa\n",
       "3              4.6           3.1            1.5           0.2     Iris-setosa\n",
       "4              5.0           3.6            1.4           0.2     Iris-setosa\n",
       "5              5.4           3.9            1.7           0.4     Iris-setosa\n",
       "7              5.0           3.4           -1.5           0.2     Iris-setosa\n",
       "..             ...           ...            ...           ...             ...\n",
       "145            6.7           3.0            5.2           2.3  Iris-virginica\n",
       "146            6.3           2.5            5.0           1.9  Iris-virginica\n",
       "147            6.5           3.0            5.2           2.0  Iris-virginica\n",
       "148            6.2           3.4            5.4           2.3  Iris-virginica\n",
       "149            5.9           3.0            5.1           1.8  Iris-virginica\n",
       "\n",
       "[142 rows x 5 columns]"
      ]
     },
     "execution_count": 31,
     "metadata": {},
     "output_type": "execute_result"
    }
   ],
   "source": [
    "df = df.drop((df[df[\"SepalWidthCm\"]<2.1]).index, axis=0)\n",
    "df"
   ]
  },
  {
   "cell_type": "code",
   "execution_count": 32,
   "id": "416ed142",
   "metadata": {
    "execution": {
     "iopub.execute_input": "2023-02-01T15:00:21.238220Z",
     "iopub.status.busy": "2023-02-01T15:00:21.237830Z",
     "iopub.status.idle": "2023-02-01T15:00:21.252003Z",
     "shell.execute_reply": "2023-02-01T15:00:21.250814Z"
    },
    "id": "qCp4W6VddrlQ",
    "outputId": "2a38c8e3-07cb-43da-e7e6-44bea0eaade0",
    "papermill": {
     "duration": 0.035344,
     "end_time": "2023-02-01T15:00:21.254313",
     "exception": false,
     "start_time": "2023-02-01T15:00:21.218969",
     "status": "completed"
    },
    "tags": []
   },
   "outputs": [
    {
     "data": {
      "text/html": [
       "<div>\n",
       "<style scoped>\n",
       "    .dataframe tbody tr th:only-of-type {\n",
       "        vertical-align: middle;\n",
       "    }\n",
       "\n",
       "    .dataframe tbody tr th {\n",
       "        vertical-align: top;\n",
       "    }\n",
       "\n",
       "    .dataframe thead th {\n",
       "        text-align: right;\n",
       "    }\n",
       "</style>\n",
       "<table border=\"1\" class=\"dataframe\">\n",
       "  <thead>\n",
       "    <tr style=\"text-align: right;\">\n",
       "      <th></th>\n",
       "      <th>SepalLengthCm</th>\n",
       "      <th>SepalWidthCm</th>\n",
       "      <th>PetalLengthCm</th>\n",
       "      <th>PetalWidthCm</th>\n",
       "      <th>Species</th>\n",
       "    </tr>\n",
       "  </thead>\n",
       "  <tbody>\n",
       "  </tbody>\n",
       "</table>\n",
       "</div>"
      ],
      "text/plain": [
       "Empty DataFrame\n",
       "Columns: [SepalLengthCm, SepalWidthCm, PetalLengthCm, PetalWidthCm, Species]\n",
       "Index: []"
      ]
     },
     "execution_count": 32,
     "metadata": {},
     "output_type": "execute_result"
    }
   ],
   "source": [
    "detect_outliers(df,\"SepalWidthCm\")"
   ]
  },
  {
   "cell_type": "code",
   "execution_count": 33,
   "id": "81755c1b",
   "metadata": {
    "execution": {
     "iopub.execute_input": "2023-02-01T15:00:21.291363Z",
     "iopub.status.busy": "2023-02-01T15:00:21.290935Z",
     "iopub.status.idle": "2023-02-01T15:00:21.303715Z",
     "shell.execute_reply": "2023-02-01T15:00:21.302843Z"
    },
    "id": "xlXJPaq7drlR",
    "outputId": "9990d1b2-b61d-4dd6-a7dc-07f11e89f4b1",
    "papermill": {
     "duration": 0.034596,
     "end_time": "2023-02-01T15:00:21.305817",
     "exception": false,
     "start_time": "2023-02-01T15:00:21.271221",
     "status": "completed"
    },
    "tags": []
   },
   "outputs": [
    {
     "data": {
      "text/html": [
       "<div>\n",
       "<style scoped>\n",
       "    .dataframe tbody tr th:only-of-type {\n",
       "        vertical-align: middle;\n",
       "    }\n",
       "\n",
       "    .dataframe tbody tr th {\n",
       "        vertical-align: top;\n",
       "    }\n",
       "\n",
       "    .dataframe thead th {\n",
       "        text-align: right;\n",
       "    }\n",
       "</style>\n",
       "<table border=\"1\" class=\"dataframe\">\n",
       "  <thead>\n",
       "    <tr style=\"text-align: right;\">\n",
       "      <th></th>\n",
       "      <th>SepalLengthCm</th>\n",
       "      <th>SepalWidthCm</th>\n",
       "      <th>PetalLengthCm</th>\n",
       "      <th>PetalWidthCm</th>\n",
       "      <th>Species</th>\n",
       "    </tr>\n",
       "  </thead>\n",
       "  <tbody>\n",
       "  </tbody>\n",
       "</table>\n",
       "</div>"
      ],
      "text/plain": [
       "Empty DataFrame\n",
       "Columns: [SepalLengthCm, SepalWidthCm, PetalLengthCm, PetalWidthCm, Species]\n",
       "Index: []"
      ]
     },
     "execution_count": 33,
     "metadata": {},
     "output_type": "execute_result"
    }
   ],
   "source": [
    "detect_outliers(df, \"PetalLengthCm\")"
   ]
  },
  {
   "cell_type": "code",
   "execution_count": 34,
   "id": "eba9bb49",
   "metadata": {
    "execution": {
     "iopub.execute_input": "2023-02-01T15:00:21.342975Z",
     "iopub.status.busy": "2023-02-01T15:00:21.342368Z",
     "iopub.status.idle": "2023-02-01T15:00:21.352157Z",
     "shell.execute_reply": "2023-02-01T15:00:21.351145Z"
    },
    "id": "jbPbqXqtdrlR",
    "outputId": "63766aeb-8ff7-458a-af4c-af6586d0f3b9",
    "papermill": {
     "duration": 0.031011,
     "end_time": "2023-02-01T15:00:21.354571",
     "exception": false,
     "start_time": "2023-02-01T15:00:21.323560",
     "status": "completed"
    },
    "tags": []
   },
   "outputs": [
    {
     "data": {
      "text/plain": [
       "count    142.000000\n",
       "mean       3.835915\n",
       "std        1.819958\n",
       "min       -1.500000\n",
       "25%        1.600000\n",
       "50%        4.450000\n",
       "75%        5.100000\n",
       "max        6.900000\n",
       "Name: PetalLengthCm, dtype: float64"
      ]
     },
     "execution_count": 34,
     "metadata": {},
     "output_type": "execute_result"
    }
   ],
   "source": [
    "df[\"PetalLengthCm\"].describe()"
   ]
  },
  {
   "cell_type": "markdown",
   "id": "729b06b1",
   "metadata": {
    "id": "JM0h4ILddrlR",
    "papermill": {
     "duration": 0.017726,
     "end_time": "2023-02-01T15:00:21.389607",
     "exception": false,
     "start_time": "2023-02-01T15:00:21.371881",
     "status": "completed"
    },
    "tags": []
   },
   "source": [
    "Nilai minus memang bukan outlier tapi tidak tepat karena panjang bunga tidak bisa minus, \n",
    "maka kita hilangkan nilai PetalLengthCm yang minus tersebut"
   ]
  },
  {
   "cell_type": "code",
   "execution_count": 35,
   "id": "0a609b4f",
   "metadata": {
    "execution": {
     "iopub.execute_input": "2023-02-01T15:00:21.427629Z",
     "iopub.status.busy": "2023-02-01T15:00:21.426917Z",
     "iopub.status.idle": "2023-02-01T15:00:21.439546Z",
     "shell.execute_reply": "2023-02-01T15:00:21.438647Z"
    },
    "id": "tnlb9-VWdrlS",
    "outputId": "f23aa5e7-00b0-4055-8f6a-311338fe6878",
    "papermill": {
     "duration": 0.034338,
     "end_time": "2023-02-01T15:00:21.442006",
     "exception": false,
     "start_time": "2023-02-01T15:00:21.407668",
     "status": "completed"
    },
    "tags": []
   },
   "outputs": [
    {
     "data": {
      "text/html": [
       "<div>\n",
       "<style scoped>\n",
       "    .dataframe tbody tr th:only-of-type {\n",
       "        vertical-align: middle;\n",
       "    }\n",
       "\n",
       "    .dataframe tbody tr th {\n",
       "        vertical-align: top;\n",
       "    }\n",
       "\n",
       "    .dataframe thead th {\n",
       "        text-align: right;\n",
       "    }\n",
       "</style>\n",
       "<table border=\"1\" class=\"dataframe\">\n",
       "  <thead>\n",
       "    <tr style=\"text-align: right;\">\n",
       "      <th></th>\n",
       "      <th>SepalLengthCm</th>\n",
       "      <th>SepalWidthCm</th>\n",
       "      <th>PetalLengthCm</th>\n",
       "      <th>PetalWidthCm</th>\n",
       "      <th>Species</th>\n",
       "    </tr>\n",
       "  </thead>\n",
       "  <tbody>\n",
       "    <tr>\n",
       "      <th>2</th>\n",
       "      <td>4.7</td>\n",
       "      <td>3.2</td>\n",
       "      <td>-1.3</td>\n",
       "      <td>0.2</td>\n",
       "      <td>Iris-setosa</td>\n",
       "    </tr>\n",
       "    <tr>\n",
       "      <th>7</th>\n",
       "      <td>5.0</td>\n",
       "      <td>3.4</td>\n",
       "      <td>-1.5</td>\n",
       "      <td>0.2</td>\n",
       "      <td>Iris-setosa</td>\n",
       "    </tr>\n",
       "  </tbody>\n",
       "</table>\n",
       "</div>"
      ],
      "text/plain": [
       "   SepalLengthCm  SepalWidthCm  PetalLengthCm  PetalWidthCm      Species\n",
       "2            4.7           3.2           -1.3           0.2  Iris-setosa\n",
       "7            5.0           3.4           -1.5           0.2  Iris-setosa"
      ]
     },
     "execution_count": 35,
     "metadata": {},
     "output_type": "execute_result"
    }
   ],
   "source": [
    "df[df[\"PetalLengthCm\"]<1]"
   ]
  },
  {
   "cell_type": "code",
   "execution_count": 36,
   "id": "f4a51821",
   "metadata": {
    "execution": {
     "iopub.execute_input": "2023-02-01T15:00:21.480114Z",
     "iopub.status.busy": "2023-02-01T15:00:21.479533Z",
     "iopub.status.idle": "2023-02-01T15:00:21.497342Z",
     "shell.execute_reply": "2023-02-01T15:00:21.496566Z"
    },
    "id": "UzqKEDZfdrlS",
    "outputId": "b854215b-0dbe-4289-c8fd-afc0302ca339",
    "papermill": {
     "duration": 0.040014,
     "end_time": "2023-02-01T15:00:21.499644",
     "exception": false,
     "start_time": "2023-02-01T15:00:21.459630",
     "status": "completed"
    },
    "tags": []
   },
   "outputs": [
    {
     "data": {
      "text/html": [
       "<div>\n",
       "<style scoped>\n",
       "    .dataframe tbody tr th:only-of-type {\n",
       "        vertical-align: middle;\n",
       "    }\n",
       "\n",
       "    .dataframe tbody tr th {\n",
       "        vertical-align: top;\n",
       "    }\n",
       "\n",
       "    .dataframe thead th {\n",
       "        text-align: right;\n",
       "    }\n",
       "</style>\n",
       "<table border=\"1\" class=\"dataframe\">\n",
       "  <thead>\n",
       "    <tr style=\"text-align: right;\">\n",
       "      <th></th>\n",
       "      <th>SepalLengthCm</th>\n",
       "      <th>SepalWidthCm</th>\n",
       "      <th>PetalLengthCm</th>\n",
       "      <th>PetalWidthCm</th>\n",
       "      <th>Species</th>\n",
       "    </tr>\n",
       "  </thead>\n",
       "  <tbody>\n",
       "    <tr>\n",
       "      <th>3</th>\n",
       "      <td>4.6</td>\n",
       "      <td>3.1</td>\n",
       "      <td>1.5</td>\n",
       "      <td>0.2</td>\n",
       "      <td>Iris-setosa</td>\n",
       "    </tr>\n",
       "    <tr>\n",
       "      <th>4</th>\n",
       "      <td>5.0</td>\n",
       "      <td>3.6</td>\n",
       "      <td>1.4</td>\n",
       "      <td>0.2</td>\n",
       "      <td>Iris-setosa</td>\n",
       "    </tr>\n",
       "    <tr>\n",
       "      <th>5</th>\n",
       "      <td>5.4</td>\n",
       "      <td>3.9</td>\n",
       "      <td>1.7</td>\n",
       "      <td>0.4</td>\n",
       "      <td>Iris-setosa</td>\n",
       "    </tr>\n",
       "    <tr>\n",
       "      <th>9</th>\n",
       "      <td>4.9</td>\n",
       "      <td>3.1</td>\n",
       "      <td>1.5</td>\n",
       "      <td>0.1</td>\n",
       "      <td>Iris-setosa</td>\n",
       "    </tr>\n",
       "    <tr>\n",
       "      <th>10</th>\n",
       "      <td>5.4</td>\n",
       "      <td>3.7</td>\n",
       "      <td>1.5</td>\n",
       "      <td>0.2</td>\n",
       "      <td>Iris-setosa</td>\n",
       "    </tr>\n",
       "    <tr>\n",
       "      <th>...</th>\n",
       "      <td>...</td>\n",
       "      <td>...</td>\n",
       "      <td>...</td>\n",
       "      <td>...</td>\n",
       "      <td>...</td>\n",
       "    </tr>\n",
       "    <tr>\n",
       "      <th>145</th>\n",
       "      <td>6.7</td>\n",
       "      <td>3.0</td>\n",
       "      <td>5.2</td>\n",
       "      <td>2.3</td>\n",
       "      <td>Iris-virginica</td>\n",
       "    </tr>\n",
       "    <tr>\n",
       "      <th>146</th>\n",
       "      <td>6.3</td>\n",
       "      <td>2.5</td>\n",
       "      <td>5.0</td>\n",
       "      <td>1.9</td>\n",
       "      <td>Iris-virginica</td>\n",
       "    </tr>\n",
       "    <tr>\n",
       "      <th>147</th>\n",
       "      <td>6.5</td>\n",
       "      <td>3.0</td>\n",
       "      <td>5.2</td>\n",
       "      <td>2.0</td>\n",
       "      <td>Iris-virginica</td>\n",
       "    </tr>\n",
       "    <tr>\n",
       "      <th>148</th>\n",
       "      <td>6.2</td>\n",
       "      <td>3.4</td>\n",
       "      <td>5.4</td>\n",
       "      <td>2.3</td>\n",
       "      <td>Iris-virginica</td>\n",
       "    </tr>\n",
       "    <tr>\n",
       "      <th>149</th>\n",
       "      <td>5.9</td>\n",
       "      <td>3.0</td>\n",
       "      <td>5.1</td>\n",
       "      <td>1.8</td>\n",
       "      <td>Iris-virginica</td>\n",
       "    </tr>\n",
       "  </tbody>\n",
       "</table>\n",
       "<p>140 rows × 5 columns</p>\n",
       "</div>"
      ],
      "text/plain": [
       "     SepalLengthCm  SepalWidthCm  PetalLengthCm  PetalWidthCm         Species\n",
       "3              4.6           3.1            1.5           0.2     Iris-setosa\n",
       "4              5.0           3.6            1.4           0.2     Iris-setosa\n",
       "5              5.4           3.9            1.7           0.4     Iris-setosa\n",
       "9              4.9           3.1            1.5           0.1     Iris-setosa\n",
       "10             5.4           3.7            1.5           0.2     Iris-setosa\n",
       "..             ...           ...            ...           ...             ...\n",
       "145            6.7           3.0            5.2           2.3  Iris-virginica\n",
       "146            6.3           2.5            5.0           1.9  Iris-virginica\n",
       "147            6.5           3.0            5.2           2.0  Iris-virginica\n",
       "148            6.2           3.4            5.4           2.3  Iris-virginica\n",
       "149            5.9           3.0            5.1           1.8  Iris-virginica\n",
       "\n",
       "[140 rows x 5 columns]"
      ]
     },
     "execution_count": 36,
     "metadata": {},
     "output_type": "execute_result"
    }
   ],
   "source": [
    "df = df.drop((df[df[\"PetalLengthCm\"]<1]).index, axis=0)\n",
    "df"
   ]
  },
  {
   "cell_type": "code",
   "execution_count": 37,
   "id": "dec92f64",
   "metadata": {
    "execution": {
     "iopub.execute_input": "2023-02-01T15:00:21.536706Z",
     "iopub.status.busy": "2023-02-01T15:00:21.536286Z",
     "iopub.status.idle": "2023-02-01T15:00:21.763250Z",
     "shell.execute_reply": "2023-02-01T15:00:21.762372Z"
    },
    "id": "ydrxrEfCdrlS",
    "outputId": "b7885431-afa5-4e10-e3db-dbfd4307a393",
    "papermill": {
     "duration": 0.248147,
     "end_time": "2023-02-01T15:00:21.765588",
     "exception": false,
     "start_time": "2023-02-01T15:00:21.517441",
     "status": "completed"
    },
    "tags": []
   },
   "outputs": [
    {
     "data": {
      "text/plain": [
       "<AxesSubplot:>"
      ]
     },
     "execution_count": 37,
     "metadata": {},
     "output_type": "execute_result"
    },
    {
     "data": {
      "image/png": "[encoded data removed]",
      "text/plain": [
       "<Figure size 432x288 with 1 Axes>"
      ]
     },
     "metadata": {
      "needs_background": "light"
     },
     "output_type": "display_data"
    }
   ],
   "source": [
    "df.boxplot()"
   ]
  },
  {
   "cell_type": "markdown",
   "id": "cd211184",
   "metadata": {
    "id": "q44U7aWPdrlS",
    "papermill": {
     "duration": 0.017835,
     "end_time": "2023-02-01T15:00:21.802384",
     "exception": false,
     "start_time": "2023-02-01T15:00:21.784549",
     "status": "completed"
    },
    "tags": []
   },
   "source": [
    "Coba kita lakukan analisis korelasi lagi"
   ]
  },
  {
   "cell_type": "code",
   "execution_count": 38,
   "id": "06a73e17",
   "metadata": {
    "execution": {
     "iopub.execute_input": "2023-02-01T15:00:21.841197Z",
     "iopub.status.busy": "2023-02-01T15:00:21.840071Z",
     "iopub.status.idle": "2023-02-01T15:00:21.854861Z",
     "shell.execute_reply": "2023-02-01T15:00:21.853579Z"
    },
    "id": "DXh-jLBkdrlT",
    "outputId": "898fed21-068c-4f6f-858d-d9e653a35af3",
    "papermill": {
     "duration": 0.036818,
     "end_time": "2023-02-01T15:00:21.857347",
     "exception": false,
     "start_time": "2023-02-01T15:00:21.820529",
     "status": "completed"
    },
    "tags": []
   },
   "outputs": [
    {
     "data": {
      "text/html": [
       "<div>\n",
       "<style scoped>\n",
       "    .dataframe tbody tr th:only-of-type {\n",
       "        vertical-align: middle;\n",
       "    }\n",
       "\n",
       "    .dataframe tbody tr th {\n",
       "        vertical-align: top;\n",
       "    }\n",
       "\n",
       "    .dataframe thead th {\n",
       "        text-align: right;\n",
       "    }\n",
       "</style>\n",
       "<table border=\"1\" class=\"dataframe\">\n",
       "  <thead>\n",
       "    <tr style=\"text-align: right;\">\n",
       "      <th></th>\n",
       "      <th>SepalLengthCm</th>\n",
       "      <th>SepalWidthCm</th>\n",
       "      <th>PetalLengthCm</th>\n",
       "      <th>PetalWidthCm</th>\n",
       "    </tr>\n",
       "  </thead>\n",
       "  <tbody>\n",
       "    <tr>\n",
       "      <th>SepalLengthCm</th>\n",
       "      <td>1.000000</td>\n",
       "      <td>-0.095146</td>\n",
       "      <td>0.871080</td>\n",
       "      <td>0.810336</td>\n",
       "    </tr>\n",
       "    <tr>\n",
       "      <th>SepalWidthCm</th>\n",
       "      <td>-0.095146</td>\n",
       "      <td>1.000000</td>\n",
       "      <td>-0.388439</td>\n",
       "      <td>-0.317683</td>\n",
       "    </tr>\n",
       "    <tr>\n",
       "      <th>PetalLengthCm</th>\n",
       "      <td>0.871080</td>\n",
       "      <td>-0.388439</td>\n",
       "      <td>1.000000</td>\n",
       "      <td>0.958657</td>\n",
       "    </tr>\n",
       "    <tr>\n",
       "      <th>PetalWidthCm</th>\n",
       "      <td>0.810336</td>\n",
       "      <td>-0.317683</td>\n",
       "      <td>0.958657</td>\n",
       "      <td>1.000000</td>\n",
       "    </tr>\n",
       "  </tbody>\n",
       "</table>\n",
       "</div>"
      ],
      "text/plain": [
       "               SepalLengthCm  SepalWidthCm  PetalLengthCm  PetalWidthCm\n",
       "SepalLengthCm       1.000000     -0.095146       0.871080      0.810336\n",
       "SepalWidthCm       -0.095146      1.000000      -0.388439     -0.317683\n",
       "PetalLengthCm       0.871080     -0.388439       1.000000      0.958657\n",
       "PetalWidthCm        0.810336     -0.317683       0.958657      1.000000"
      ]
     },
     "execution_count": 38,
     "metadata": {},
     "output_type": "execute_result"
    }
   ],
   "source": [
    "df.iloc[:,0:4].corr()"
   ]
  },
  {
   "cell_type": "markdown",
   "id": "a396e33b",
   "metadata": {
    "id": "L73jwRNhdrlT",
    "papermill": {
     "duration": 0.018103,
     "end_time": "2023-02-01T15:00:21.894684",
     "exception": false,
     "start_time": "2023-02-01T15:00:21.876581",
     "status": "completed"
    },
    "tags": []
   },
   "source": [
    "Bagaimana dengan scatterplotnya?"
   ]
  },
  {
   "cell_type": "code",
   "execution_count": 39,
   "id": "7fdd6485",
   "metadata": {
    "execution": {
     "iopub.execute_input": "2023-02-01T15:00:21.933458Z",
     "iopub.status.busy": "2023-02-01T15:00:21.933052Z",
     "iopub.status.idle": "2023-02-01T15:00:22.147525Z",
     "shell.execute_reply": "2023-02-01T15:00:22.146565Z"
    },
    "id": "E6RNW8UsdrlT",
    "outputId": "35e573b0-7b4d-4b7c-e0db-0219ec929340",
    "papermill": {
     "duration": 0.237192,
     "end_time": "2023-02-01T15:00:22.150081",
     "exception": false,
     "start_time": "2023-02-01T15:00:21.912889",
     "status": "completed"
    },
    "tags": []
   },
   "outputs": [
    {
     "data": {
      "text/plain": [
       "<AxesSubplot:xlabel='PetalLengthCm', ylabel='PetalWidthCm'>"
      ]
     },
     "execution_count": 39,
     "metadata": {},
     "output_type": "execute_result"
    },
    {
     "data": {
      "image/png": "[encoded data removed]",
      "text/plain": [
       "<Figure size 432x288 with 1 Axes>"
      ]
     },
     "metadata": {
      "needs_background": "light"
     },
     "output_type": "display_data"
    }
   ],
   "source": [
    "df.plot.scatter(x='PetalLengthCm',y='PetalWidthCm',c='blue')"
   ]
  }
 ],
 "metadata": {
  "kernelspec": {
   "display_name": "Python 3",
   "language": "python",
   "name": "python3"
  },
  "language_info": {
   "codemirror_mode": {
    "name": "ipython",
    "version": 3
   },
   "file_extension": ".py",
   "mimetype": "text/x-python",
   "name": "python",
   "nbconvert_exporter": "python",
   "pygments_lexer": "ipython3",
   "version": "3.7.12"
  },
  "papermill": {
   "default_parameters": {},
   "duration": 13.380206,
   "end_time": "2023-02-01T15:00:22.891713",
   "environment_variables": {},
   "exception": null,
   "input_path": "__notebook__.ipynb",
   "output_path": "__notebook__.ipynb",
   "parameters": {},
   "start_time": "2023-02-01T15:00:09.511507",
   "version": "2.3.4"
  }
 },
 "nbformat": 4,
 "nbformat_minor": 5
}
